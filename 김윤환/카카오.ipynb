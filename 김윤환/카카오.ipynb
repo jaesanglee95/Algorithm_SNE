{
 "cells": [
  {
   "cell_type": "markdown",
   "metadata": {},
   "source": [
    "# 신규아이디추천 pass"
   ]
  },
  {
   "cell_type": "code",
   "execution_count": 29,
   "metadata": {},
   "outputs": [
    {
     "data": {
      "text/plain": [
       "'aaa'"
      ]
     },
     "execution_count": 29,
     "metadata": {},
     "output_type": "execute_result"
    }
   ],
   "source": [
    "new_id =\"=.=\"\n",
    "def solution(new_id):\n",
    "    answer = ''\n",
    "    \n",
    "    #1단계 new_id의 모든 대문자를 대응되는 소문자로 치환합니다.\n",
    "    new_id = new_id.lower()\n",
    "    #2단계 new_id에서 알파벳 소문자, 숫자, 빼기(-), 밑줄(_), 마침표(.)를 제외한 모든 문자를 제거합니다.\n",
    "    for i in '~!@#$%^&*()=+[{]}:?,<>/' :\n",
    "        new_id = new_id.replace(i, '')\n",
    "    \n",
    "    #3단계 new_id에서 마침표(.)가 2번 이상 연속된 부분을 하나의 마침표(.)로 치환합니다.\n",
    "    res = new_id[0]\n",
    "    for i in range(1,len(new_id)) :\n",
    "        if res[-1] == '.' and new_id[i] == '.' :\n",
    "            continue\n",
    "        else :\n",
    "            res += new_id[i]\n",
    "    new_id = res\n",
    "    #4단계 new_id에서 마침표(.)가 처음이나 끝에 위치한다면 제거합니다.\n",
    "    if new_id[0] == '.' :\n",
    "        new_id = new_id[1:]\n",
    "    if len(new_id) > 0 and new_id[-1] == '.' :\n",
    "        new_id = new_id[:-1]\n",
    "    \n",
    "    #5단계 new_id가 빈 문자열이라면, new_id에 \"a\"를 대입합니다.\n",
    "    if new_id.strip() == '' :\n",
    "        new_id = 'a'\n",
    "    #6단계 new_id의 길이가 16자 이상이면, new_id의 첫 15개의 문자를 제외한 나머지 문자들을 모두 제거합니다.\n",
    "    if len(new_id) >= 16:\n",
    "        new_id = new_id[:15]\n",
    "    #만약 제거 후 마침표(.)가 new_id의 끝에 위치한다면 끝에 위치한 마침표(.) 문자를 제거합니다.\n",
    "    if  len(new_id) > 0 and new_id[-1] == '.' :\n",
    "        new_id = new_id[:-1]\n",
    "    #7단계 new_id의 길이가 2자 이하라면, new_id의 마지막 문자를 new_id의 길이가 3이 될 때까지 반복해서 끝에 붙입니다.\n",
    "    if len(new_id) <= 2 :\n",
    "        while len(new_id) < 3:\n",
    "            new_id += new_id[-1]\n",
    "    answer = new_id\n",
    "    return answer\n",
    "solution(new_id)"
   ]
  },
  {
   "cell_type": "markdown",
   "metadata": {},
   "source": [
    "# 메뉴리뉴얼 pass"
   ]
  },
  {
   "cell_type": "code",
   "execution_count": 34,
   "metadata": {},
   "outputs": [
    {
     "data": {
      "text/plain": [
       "['WX', 'XY']"
      ]
     },
     "execution_count": 34,
     "metadata": {},
     "output_type": "execute_result"
    }
   ],
   "source": [
    "import itertools\n",
    "def solution(orders, course):\n",
    "    answer = []\n",
    "    for num in course :\n",
    "        temp_dict = dict()\n",
    "        for i in orders :\n",
    "            temp_comb = list(itertools.combinations(i,num))\n",
    "            for a in temp_comb:\n",
    "                key = ''.join(b for b in a)\n",
    "                key = ''.join(sorted(list(key)))\n",
    "                temp_dict[key] = temp_dict.get(key,0) +1\n",
    "        max1 = 0\n",
    "        for i in temp_dict :\n",
    "            if temp_dict[i] > max1 :\n",
    "                max1 = temp_dict[i]\n",
    "\n",
    "        for i in temp_dict :\n",
    "            if temp_dict[i] == max1 and max1 > 1 :\n",
    "                answer.append(i)\n",
    "    return sorted(answer)\n",
    "solution(orders, course)"
   ]
  },
  {
   "cell_type": "markdown",
   "metadata": {},
   "source": [
    "# 순위 검색  \n",
    "## 정확성 40/40 효율성 0/60"
   ]
  },
  {
   "cell_type": "code",
   "execution_count": null,
   "metadata": {},
   "outputs": [],
   "source": [
    "def solution(info, query):\n",
    "    answer = []\n",
    "    for q in query :\n",
    "        condition = q.split()[::2] \n",
    "        score = int(q.split()[-1])\n",
    "        #print('c',condition, score)\n",
    "        cnt = 0\n",
    "        for i in info :\n",
    "            a = i.split()[:-1]\n",
    "            for ele in range(len(a)) :\n",
    "                if condition[ele] == '-' :\n",
    "                     a[ele] = '-'\n",
    "            #print('info',a, i.split()[-1] )\n",
    "            if a == condition and int(i.split()[-1]) >= score :\n",
    "                cnt+= 1 \n",
    "    #print('cnt',cnt)\n",
    "        answer.append(cnt)\n",
    "        \n",
    "    return answer"
   ]
  },
  {
   "cell_type": "markdown",
   "metadata": {},
   "source": [
    "# 합승택시요금 pass"
   ]
  },
  {
   "cell_type": "code",
   "execution_count": 109,
   "metadata": {},
   "outputs": [
    {
     "data": {
      "text/plain": [
       "18"
      ]
     },
     "execution_count": 109,
     "metadata": {},
     "output_type": "execute_result"
    }
   ],
   "source": [
    "def solution(n, s, a, b, fares):\n",
    "    #answer = 0\n",
    "    board = [[float('inf')] *n for _ in range(n)]\n",
    "    for fare in fares:\n",
    "        board[fare[0]-1][fare[1]-1] = fare[2]\n",
    "        board[fare[1]-1][fare[0]-1] = fare[2]\n",
    "    for i in range(n):\n",
    "        board[i][i] = 0\n",
    "    for step in range(n):\n",
    "        for row in range(n):\n",
    "            for col in range(n):\n",
    "                board[row][col] = min(board[row][col], board[row][step] + board[step][col])\n",
    "    list1= list(range(n))\n",
    "    #list1.remove(s-1)\n",
    "    #list1.remove(a-1)\n",
    "    #list1.remove(b-1)\n",
    "    answer = board[s-1][a-1] + board[s-1][b-1] # 각자 가는경우 \n",
    "    for point in list1 :\n",
    "        score_a = board[s-1][point] + board[point][a-1] \n",
    "        score_b = board[point][b-1]\n",
    "        score = score_a + score_b\n",
    "        #print(point, score)\n",
    "        if score < answer :\n",
    "            answer = score\n",
    "    \n",
    "    \n",
    "    \n",
    "    return answer\n",
    "solution(n, s, a, b, fares)"
   ]
  },
  {
   "cell_type": "markdown",
   "metadata": {},
   "source": [
    "# 광고삽입 22.6"
   ]
  },
  {
   "cell_type": "code",
   "execution_count": null,
   "metadata": {},
   "outputs": [],
   "source": [
    "def second(play_time):\n",
    "    return int(play_time.split(':')[0]) * 3600 + int(play_time.split(':')[1]) * 60  + int(play_time.split(':')[2])\n",
    "\n",
    "\n",
    "def solution(play_time, adv_time, logs):\n",
    "    #answer = ''\n",
    "    logs2 = []\n",
    "    for i in logs :\n",
    "        temp = []\n",
    "        a= second(i.split('-')[0])    \n",
    "        b = second(i.split('-')[1])\n",
    "        logs2.append((a,b))\n",
    "    logs2 = sorted(logs2)\n",
    "    if second(adv_time) >= second(play_time) :\n",
    "        return '00:00:00'\n",
    "    res = 0\n",
    "    ans = 0\n",
    "    for i in logs2 :\n",
    "        start = i[0]\n",
    "        end = i[0] + second(adv_time)\n",
    "        time = 0\n",
    "        for j in logs2 :\n",
    "            if (end <j[0]) or (j[1] < start) or (end > second(play_time)) :\n",
    "                continue\n",
    "            else :\n",
    "                if start < j[0] :\n",
    "                    if end < j[1] :\n",
    "                        time += (end-j[0])\n",
    "                        #print(j[0],end, time)\n",
    "                    else :\n",
    "                        time +=  (j[1] - j[0])\n",
    "                        #print(j[0],j[1],time)\n",
    "                else : # j[0] < start\n",
    "                    if end<=j[1] :\n",
    "                        time += (end-start)\n",
    "                        #print(start, end,  time)\n",
    "                    else :\n",
    "                        time += (j[1] - start)\n",
    "                        #print(start , j[1], time)\n",
    "        #print(start, time)\n",
    "        if res < time :\n",
    "            res = time\n",
    "            ans = i[0]\n",
    "    for i in logs :\n",
    "        if second(i.split('-')[0]) == ans :\n",
    "            return i.split('-')[0]"
   ]
  },
  {
   "cell_type": "code",
   "execution_count": null,
   "metadata": {},
   "outputs": [],
   "source": []
  },
  {
   "cell_type": "code",
   "execution_count": null,
   "metadata": {},
   "outputs": [],
   "source": []
  },
  {
   "cell_type": "code",
   "execution_count": null,
   "metadata": {},
   "outputs": [],
   "source": []
  },
  {
   "cell_type": "markdown",
   "metadata": {},
   "source": [
    "# 카드 짝 맞추기"
   ]
  },
  {
   "cell_type": "code",
   "execution_count": null,
   "metadata": {},
   "outputs": [],
   "source": []
  },
  {
   "cell_type": "markdown",
   "metadata": {},
   "source": [
    "# 매출 하락 최소화 "
   ]
  },
  {
   "cell_type": "code",
   "execution_count": null,
   "metadata": {},
   "outputs": [],
   "source": []
  },
  {
   "cell_type": "markdown",
   "metadata": {},
   "source": [
    "# 키패드 누르기 pass"
   ]
  },
  {
   "cell_type": "code",
   "execution_count": 37,
   "metadata": {},
   "outputs": [],
   "source": [
    "def solution(numbers, hand):\n",
    "    left = (3,0)\n",
    "    right= (3,2)\n",
    "    ans = ''\n",
    "    i_row = 0\n",
    "    for i in numbers :\n",
    "        #print(i)\n",
    "        \n",
    "        if i in [1,4,7]:\n",
    "            ans+='L'\n",
    "            row = i//3\n",
    "            col = 0\n",
    "            left = (row, col)\n",
    "        \n",
    "        elif i in [3,6,9] :\n",
    "            ans+='R'\n",
    "            row = i//3 -1\n",
    "            col = 2\n",
    "            right = (row, col)\n",
    "        else :\n",
    "            if i == 0:\n",
    "                i_row = 3\n",
    "            else : i_row = i//3\n",
    "            i_col = 1 \n",
    "            left_d = abs(left[0] - i_row) + abs(left[1] - i_col )\n",
    "            right_d = abs(right[0] - i_row) + abs(right[1] - i_col )\n",
    "            #print(left_d, right_d)\n",
    "            if left_d == right_d :\n",
    "                if hand == 'left' :\n",
    "                    ans+='L'\n",
    "                    left = (i_row, i_col)\n",
    "                else :\n",
    "                    ans+='R'\n",
    "                    right = (i_row, i_col)\n",
    "            elif left_d < right_d :\n",
    "                    ans +='L'\n",
    "                    left = (i_row, i_col)\n",
    "            else : \n",
    "                ans+='R'\n",
    "                right = (i_row, i_col)\n",
    "        \n",
    "        #print(ans)\n",
    "        #print('left',left)\n",
    "        #print('right',right)\n",
    "        \n",
    "    return ans"
   ]
  },
  {
   "cell_type": "markdown",
   "metadata": {},
   "source": [
    "# 수식 최대화 pass"
   ]
  },
  {
   "cell_type": "code",
   "execution_count": null,
   "metadata": {},
   "outputs": [],
   "source": [
    "import itertools \n",
    "def do(a,b,sign):\n",
    "    a = int(a)\n",
    "    b = int(b)\n",
    "    if sign == '-' :\n",
    "        return a - b \n",
    "    if sign == '*' :\n",
    "        return a * b\n",
    "    if sign == '+' :\n",
    "        return a + b\n",
    "\n",
    "\n",
    "\n",
    "def solution(expression):\n",
    "    answer = []\n",
    "    cal = ''\n",
    "    num = ''\n",
    "    for i in expression :\n",
    "        if i.isnumeric() == False :\n",
    "        \n",
    "            cal += i\n",
    "            num += ' '\n",
    "            num += i\n",
    "            num += ' '\n",
    "        else :\n",
    "            num += i\n",
    "    num  = num.split(' ')       \n",
    "# num = ['100', '-', '200', '*', '300', '-', '500', '+', '20']\n",
    "\n",
    "    sign = ['*','-','+']\n",
    "\n",
    "    for order in itertools.permutations(sign, 3) :\n",
    "        num_copy = num[:]\n",
    "    \n",
    "        for o in order :\n",
    "            idx=0\n",
    "            while idx < len(num_copy) :\n",
    "                if num_copy[idx] == o :\n",
    "                    value =do(num_copy[idx-1], num_copy[idx+1], o) # 계산\n",
    "                   \n",
    "                    num_copy = num_copy[:idx-1] +list(str(value).split()) + num_copy[idx+2:] # 계산한거로 편집\n",
    "       \n",
    "                else :\n",
    "                    idx+=1\n",
    "        answer.append(   abs(  int(num_copy[0])   )    )\n",
    "    return max(answer)        \n",
    "solution(expression)"
   ]
  },
  {
   "cell_type": "markdown",
   "metadata": {},
   "source": [
    "# 보석 쇼핑"
   ]
  },
  {
   "cell_type": "code",
   "execution_count": 19,
   "metadata": {},
   "outputs": [
    {
     "data": {
      "text/plain": [
       "[3, 7]"
      ]
     },
     "execution_count": 19,
     "metadata": {},
     "output_type": "execute_result"
    }
   ],
   "source": [
    "#구글링 참고\n",
    "def solution(gems):\n",
    "    #answer = []\n",
    "    min1 = len(set(gems))\n",
    "    dict1 = dict()\n",
    "    dict1.update({gems[0] : 1})\n",
    "    list1 = []\n",
    "    lt=0\n",
    "    rt= 0\n",
    "    while lt < len(gems) and rt<len(gems) :\n",
    "        if len(dict1) < min1 :\n",
    "            rt += 1\n",
    "            if rt == len(gems) :\n",
    "                break\n",
    "            dict1[gems[rt]] = dict1.get(gems[rt],0) +1\n",
    "        else :\n",
    "            list1.append((rt-lt,[lt+1,rt+1]))\n",
    "            dict1[gems[lt]] -= 1\n",
    "            if dict1[gems[lt]] == 0:\n",
    "                del dict1[gems[lt]]\n",
    "            lt +=1\n",
    "    list1 = sorted(list1, key=lambda x :(x[0], x[1]))\n",
    "    return list1[0][1]\n",
    "solution(gems)"
   ]
  },
  {
   "cell_type": "code",
   "execution_count": null,
   "metadata": {},
   "outputs": [],
   "source": []
  },
  {
   "cell_type": "code",
   "execution_count": null,
   "metadata": {},
   "outputs": [],
   "source": []
  },
  {
   "cell_type": "markdown",
   "metadata": {},
   "source": [
    "# 경주로 건설 \n",
    "### 예제는 다 맞는데 솔루션 함수에 못넣겠음"
   ]
  },
  {
   "cell_type": "code",
   "execution_count": 37,
   "metadata": {},
   "outputs": [],
   "source": [
    "board = [[0,0,0,0,0,0],[0,1,1,1,1,0],[0,0,1,0,0,0],[1,0,0,1,0,1],[0,1,0,0,0,1],[0,0,0,0,0,0]]"
   ]
  },
  {
   "cell_type": "code",
   "execution_count": 38,
   "metadata": {},
   "outputs": [
    {
     "data": {
      "text/plain": [
       "3200"
      ]
     },
     "execution_count": 38,
     "metadata": {},
     "output_type": "execute_result"
    }
   ],
   "source": [
    "n = len(board)\n",
    "res = float('inf')\n",
    "def DFS(pre_row, pre_col, row, col, cost) :\n",
    "    global res \n",
    "    if row == n-1 and col == n-1 :\n",
    "        if cost < res :\n",
    "            res = cost \n",
    "    else :\n",
    "        for a ,b in [(-1,0), (1,0), (0,-1), (0,1)] :\n",
    "            row_move = row + a\n",
    "            col_move = col + b \n",
    "            if 0<= row_move < n and 0 <= col_move < n and board[row_move][col_move] == 0 :\n",
    "            \n",
    "                if row==0 and col== 0 :\n",
    "                    board[row_move][col_move] = 1\n",
    "                    DFS(0,0, row_move, col_move , cost+100)\n",
    "                    board[row_move][col_move] = 0\n",
    "                else:\n",
    "                    if pre_row != row_move and pre_col != col_move :\n",
    "                        board[row_move][col_move] = 1\n",
    "                        DFS(row, col, row_move, col_move, cost + 600)\n",
    "                        board[row_move][col_move] = 0\n",
    "                    else :\n",
    "                        board[row_move][col_move] = 1\n",
    "                        DFS(row, col ,row_move, col_move, cost + 100)\n",
    "                        board[row_move][col_move] = 0\n",
    "                        \n",
    "DFS(0,0,0,0,0)\n",
    "res"
   ]
  },
  {
   "cell_type": "code",
   "execution_count": null,
   "metadata": {},
   "outputs": [],
   "source": []
  },
  {
   "cell_type": "code",
   "execution_count": null,
   "metadata": {},
   "outputs": [],
   "source": []
  },
  {
   "cell_type": "markdown",
   "metadata": {},
   "source": [
    "# 동굴탐험"
   ]
  },
  {
   "cell_type": "code",
   "execution_count": null,
   "metadata": {},
   "outputs": [],
   "source": []
  },
  {
   "cell_type": "code",
   "execution_count": null,
   "metadata": {},
   "outputs": [],
   "source": []
  },
  {
   "cell_type": "code",
   "execution_count": null,
   "metadata": {},
   "outputs": [],
   "source": []
  }
 ],
 "metadata": {
  "kernelspec": {
   "display_name": "Python 3",
   "language": "python",
   "name": "python3"
  },
  "language_info": {
   "codemirror_mode": {
    "name": "ipython",
    "version": 3
   },
   "file_extension": ".py",
   "mimetype": "text/x-python",
   "name": "python",
   "nbconvert_exporter": "python",
   "pygments_lexer": "ipython3",
   "version": "3.7.1"
  }
 },
 "nbformat": 4,
 "nbformat_minor": 2
}
