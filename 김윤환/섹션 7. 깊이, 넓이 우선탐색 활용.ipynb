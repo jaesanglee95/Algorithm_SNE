{
 "cells": [
  {
   "cell_type": "markdown",
   "metadata": {},
   "source": [
    "# 7-1 최대 점수 구하기(DFS) 100"
   ]
  },
  {
   "cell_type": "code",
   "execution_count": null,
   "metadata": {},
   "outputs": [],
   "source": [
    "import sys\n",
    "#sys.stdin=open(\"input.txt\", \"r\")\n",
    "n , m = map(int, input().split())\n",
    "qt = []\n",
    "for _ in range(n) :\n",
    "    qt.append( list(map(int, input().split())) )\n",
    "\n",
    "final_score = 0\n",
    "def DFS(L, score_sum, time_spend) :\n",
    "    global final_score\n",
    "    if time_spend > m :\n",
    "        return\n",
    "    if L == n :\n",
    "        if score_sum > final_score :\n",
    "            final_score = score_sum\n",
    "    else :\n",
    "        DFS(L+1, score_sum + qt[L][0], time_spend + qt[L][1])\n",
    "        DFS(L+1, score_sum , time_spend )\n",
    "DFS(0,0,0)\n",
    "print(final_score)"
   ]
  },
  {
   "cell_type": "code",
   "execution_count": null,
   "metadata": {},
   "outputs": [],
   "source": []
  },
  {
   "cell_type": "code",
   "execution_count": null,
   "metadata": {},
   "outputs": [],
   "source": []
  },
  {
   "cell_type": "code",
   "execution_count": null,
   "metadata": {},
   "outputs": [],
   "source": []
  },
  {
   "cell_type": "markdown",
   "metadata": {},
   "source": [
    "# 7-2 휴가(DFS) 100"
   ]
  },
  {
   "cell_type": "code",
   "execution_count": null,
   "metadata": {},
   "outputs": [],
   "source": [
    "import sys\n",
    "#sys.stdin=open(\"input.txt\", \"r\")\n",
    "n = int(input())\n",
    "counsel = []\n",
    "for _ in range(n) :\n",
    "    counsel.append( list(map(int, input().split())) )\n",
    "    \n",
    "max_pay = 0\n",
    "def DFS(L, pay_sum) :\n",
    "    global max_pay \n",
    "    if L == n :\n",
    "        if pay_sum > max_pay :\n",
    "            max_pay = pay_sum \n",
    "    else :\n",
    "        if L + counsel[L][0] <= n   : #지난 일수 + 상담일수가 휴가전일때\n",
    "            day = L + counsel[L][0]\n",
    "            DFS(day, pay_sum + counsel[L][1])\n",
    "        \n",
    "        DFS(L+1 , pay_sum)\n",
    "DFS(0,0)\n",
    "print(max_pay)"
   ]
  },
  {
   "cell_type": "markdown",
   "metadata": {},
   "source": [
    "# 7-3 양팔저울 100"
   ]
  },
  {
   "cell_type": "code",
   "execution_count": 37,
   "metadata": {},
   "outputs": [
    {
     "name": "stdout",
     "output_type": "stream",
     "text": [
      "2\n"
     ]
    }
   ],
   "source": [
    "import sys\n",
    "#sys.stdin=open(\"input.txt\", \"r\")\n",
    "n = int(input())\n",
    "chu = list(map(int, input().split()))\n",
    "\n",
    "s = sum(chu)\n",
    "weight = []\n",
    "def DFS(L, sum1) :\n",
    "    global weight\n",
    "    if L == n :\n",
    "        if(0 < sum1 <= s) :\n",
    "            weight.append(sum1)\n",
    "    else :\n",
    "        DFS(L+1, sum1 + chu[L])\n",
    "        DFS(L+1, sum1 - chu[L])\n",
    "        DFS(L+1, sum1)\n",
    "DFS(0,0)\n",
    "print(s- len(set(weight)))"
   ]
  },
  {
   "cell_type": "markdown",
   "metadata": {},
   "source": [
    "# 7-4 동전 바꿔주기 100"
   ]
  },
  {
   "cell_type": "code",
   "execution_count": 38,
   "metadata": {},
   "outputs": [
    {
     "name": "stdout",
     "output_type": "stream",
     "text": [
      "20\n",
      "3\n",
      "5 3\n",
      "10 2\n",
      "1 5\n"
     ]
    }
   ],
   "source": [
    "import sys\n",
    "#sys.stdin=open(\"input.txt\", \"r\")\n",
    "T = int(input()) # 금액\n",
    "k = int(input()) #동전 가지수 \n",
    "combi = []   \n",
    "for _ in range(k) :\n",
    "    a , b = map(int, input().split())  # a : 금액 / b : 개수\n",
    "    combi.append((a,b))\n",
    "    \n",
    "cnt = 0\n",
    "def DFS(L, sum1):\n",
    "    global cnt\n",
    "    \n",
    "    if sum1 > T :\n",
    "        return\n",
    "    \n",
    "    if L==k: \n",
    "        if sum1== T:\n",
    "            cnt+=1\n",
    "    \n",
    "    \n",
    "    else:\n",
    "        for i in range(combi[L][1] +1) :\n",
    "            DFS(L+1, sum1 + combi[L][0] * i) \n",
    "            \n",
    "DFS(0,0)\n",
    "cnt"
   ]
  },
  {
   "cell_type": "markdown",
   "metadata": {},
   "source": [
    "# 7-5 동전 분배하기 100"
   ]
  },
  {
   "cell_type": "code",
   "execution_count": 9,
   "metadata": {},
   "outputs": [
    {
     "name": "stdout",
     "output_type": "stream",
     "text": [
      "5\n"
     ]
    }
   ],
   "source": [
    "import sys\n",
    "#sys.stdin=open(\"input.txt\", \"r\")\n",
    "n = int(input())\n",
    "list1 = [int(input()) for _ in range(n)]\n",
    "\n",
    "\n",
    "\n",
    "\n",
    "result = float('inf') \n",
    "def DFS(L,a,b,c) :\n",
    "    global result\n",
    "    if L == n :\n",
    "        ans = max(a,b,c) - min(a,b,c)\n",
    "        \n",
    "        if ans < result and len(set((a,b,c)))==3:\n",
    "            result = ans\n",
    "    else :\n",
    "        DFS(L+1,a+list1[L], b, c)\n",
    "        DFS(L+1,a, b+list1[L], c)\n",
    "        DFS(L+1,a, b, c+list1[L])\n",
    "        \n",
    "DFS(0,0,0,0)\n",
    "print(result)"
   ]
  },
  {
   "cell_type": "markdown",
   "metadata": {},
   "source": [
    "# 7-6 알파코드  20 \n",
    "@ 어떡하냐"
   ]
  },
  {
   "cell_type": "code",
   "execution_count": null,
   "metadata": {},
   "outputs": [],
   "source": [
    "import sys\n",
    "#sys.stdin=open(\"input.txt\", \"r\")\n",
    "def code(x) :\n",
    "    return chr(x+64)\n",
    "\n",
    "\n",
    "\n",
    "def DFS(list1, rest) :\n",
    "    global cnt\n",
    "    if rest == ''  : \n",
    "        for i in list1 :\n",
    "            print(code(int(i)), end='')\n",
    "        print()\n",
    "        cnt+=1      \n",
    "    \n",
    "    else :\n",
    "        DFS(list1 + [rest[0]] , rest[1:])\n",
    "        if int( list1[-1] + rest[0] ) <= 26 :\n",
    "            list1.append(list1[-1] + rest[0])\n",
    "            list1.pop(-2)\n",
    "            DFS(list1, rest[1:] )\n",
    "         \n",
    "        \n",
    "\n",
    "if __name__==\"__main__\":\n",
    "    n = input()\n",
    "    cnt=0\n",
    "    DFS([ n[0] ], n[1:])\n",
    "    print(cnt)"
   ]
  },
  {
   "cell_type": "markdown",
   "metadata": {},
   "source": [
    "# 7- 7 송아지 찾기 (강의)"
   ]
  },
  {
   "cell_type": "code",
   "execution_count": null,
   "metadata": {},
   "outputs": [],
   "source": [
    "import sys\n",
    "#sys.stdin=open(\"input.txt\", \"r\")"
   ]
  },
  {
   "cell_type": "code",
   "execution_count": 40,
   "metadata": {},
   "outputs": [
    {
     "name": "stdout",
     "output_type": "stream",
     "text": [
      "5 14\n",
      "3\n"
     ]
    }
   ],
   "source": [
    "import sys\n",
    "from collections import deque\n",
    "sys.stdin=open(\"input.txt\", \"r\")\n",
    "MAX = 10000\n",
    "ch = [0] * (MAX+1)\n",
    "dis = [0] * (MAX+1)\n",
    "n,m = map(int,input().split())\n",
    "ch[n] = 1\n",
    "dis[n] = 0\n",
    "dQ = []\n",
    "dQ.append(n)\n",
    "while dQ:\n",
    "    now = dQ.pop(0)\n",
    "    if now==m:\n",
    "        break\n",
    "    for next in (now-1, now+1, now+5):\n",
    "        if 1 <= next <= MAX:\n",
    "            if ch[next]==0:\n",
    "                dQ.append(next)\n",
    "                ch[next] = 1\n",
    "                dis[next] = dis[now]+1\n",
    "                \n",
    "print(dis[m])"
   ]
  },
  {
   "cell_type": "markdown",
   "metadata": {},
   "source": [
    "# 7-8 사과나무(BFS) 100"
   ]
  },
  {
   "cell_type": "code",
   "execution_count": null,
   "metadata": {},
   "outputs": [],
   "source": [
    "import sys\n",
    "#sys.stdin = open(\"input.txt\", 'r')\n",
    "n=int(input())\n",
    "a=[list(map(int, input().split())) for _ in range(n)]\n",
    "\n",
    "\n",
    "\n",
    "\n",
    "apple_sum = 0\n",
    "row = 0\n",
    "\n",
    "while 1 :\n",
    "    if row == n//2 :\n",
    "        apple_sum += sum(a[row])\n",
    "        break\n",
    "    up = a[row][n//2 -row : n//2 + row +1]\n",
    "    down = a[n-row -1][n//2 - row : n//2 +row +1]\n",
    "    #print('up',up)\n",
    "    #print('down',down)\n",
    "    temp_sum = sum(up) + sum(down)\n",
    "    apple_sum +=  temp_sum\n",
    "    row += 1\n",
    "print(apple_sum)"
   ]
  },
  {
   "cell_type": "code",
   "execution_count": null,
   "metadata": {},
   "outputs": [],
   "source": []
  },
  {
   "cell_type": "markdown",
   "metadata": {},
   "source": [
    "# 7-9 미로의 최단거리 통로(BFS) 100"
   ]
  },
  {
   "cell_type": "code",
   "execution_count": null,
   "metadata": {},
   "outputs": [],
   "source": [
    "import sys\n",
    "#sys.stdin = open(\"input.txt\", 'r')\n",
    "maze=[list(map(int, input().split())) for _ in range(7)]\n",
    "\n",
    "maze[0][0] = 1\n",
    "path=[ [0]*7 for _ in range(7) ]\n",
    "current = [(0,0)]\n",
    "while current :\n",
    "    row = current[0][0] \n",
    "    col = current[0][1]\n",
    "    current.pop(0)\n",
    "    for i,j in [(-1,0), (1,0), (0,-1), (0,1)]:\n",
    "        if   0<=row+i<7 and 0<=col+j<7 and maze[row +i][col +j] == 0  :\n",
    "            maze[row+i][col+j] = 1\n",
    "            path[row+i][col+j] = path[row][col] + 1\n",
    "            current.append((row+i, col+j))\n",
    "    \n",
    "if path[-1][-1] == 0 :\n",
    "    print(-1)\n",
    "else : print(path[-1][-1])"
   ]
  },
  {
   "cell_type": "code",
   "execution_count": null,
   "metadata": {},
   "outputs": [],
   "source": []
  },
  {
   "cell_type": "code",
   "execution_count": null,
   "metadata": {},
   "outputs": [],
   "source": []
  },
  {
   "cell_type": "code",
   "execution_count": null,
   "metadata": {},
   "outputs": [],
   "source": []
  },
  {
   "cell_type": "markdown",
   "metadata": {},
   "source": [
    "# 7-10 미로탐색(DFS) 100"
   ]
  },
  {
   "cell_type": "code",
   "execution_count": null,
   "metadata": {},
   "outputs": [],
   "source": [
    "import sys\n",
    "#sys.stdin = open(\"input.txt\", 'r')\n",
    "maze=[list(map(int, input().split())) for _ in range(7)]\n",
    "maze[0][0] = 1\n",
    "\n",
    "cnt = 0\n",
    "def DFS(row, col) :\n",
    "    global cnt\n",
    "    if row == 6  and col == 6 :\n",
    "        cnt += 1 \n",
    "    else :\n",
    "        for a, b in [(-1,0), (1,0), (0,-1), (0,1)] :\n",
    "            row_move = row + a\n",
    "            col_move = col + b \n",
    "            if 0<= row_move < 7 and 0 <= col_move < 7 and maze[row_move][col_move] == 0 :\n",
    "                maze[row_move][col_move] = 1\n",
    "                DFS(row_move, col_move)\n",
    "                maze[row_move][col_move] = 0\n",
    "\n",
    "DFS(0,0)\n",
    "print(cnt)"
   ]
  },
  {
   "cell_type": "markdown",
   "metadata": {},
   "source": [
    "# 7-11 등산경로 100"
   ]
  },
  {
   "cell_type": "code",
   "execution_count": 5,
   "metadata": {},
   "outputs": [
    {
     "name": "stdout",
     "output_type": "stream",
     "text": [
      "5\n"
     ]
    }
   ],
   "source": [
    "import sys\n",
    "#sys.stdin = open(\"input.txt\", 'r')\n",
    "n = int(input())\n",
    "san =[list(map(int, input().split())) for _ in range(n)]\n",
    "\n",
    "\n",
    "start_loc = (0,0)\n",
    "end_loc = (0,0)\n",
    "start_h = float('inf')\n",
    "end_h = - float('inf')\n",
    "for row, i in enumerate(san) :\n",
    "    for col in range(n) :\n",
    "        if i[col] < start_h :\n",
    "            start_h = i[col]\n",
    "            start_loc = (row, col)\n",
    "        if i[col] > end_h :\n",
    "            end_h = i[col]\n",
    "            end_loc = (row, col)\n",
    "\n",
    "\n",
    "\n",
    "cnt = 0\n",
    "def DFS(row, col) :\n",
    "    global cnt\n",
    "    if row == end_loc[0]  and col == end_loc[1] :\n",
    "        cnt += 1 \n",
    "    else :\n",
    "        for a, b in [(-1,0), (1,0), (0,-1), (0,1)] :\n",
    "            row_move = row + a\n",
    "            col_move = col + b \n",
    "            if 0<= row_move < n and 0 <= col_move < n and san[row_move][col_move] > san[row][col]  :\n",
    "                \n",
    "                DFS(row_move, col_move)\n",
    "                \n",
    "DFS(start_loc[0],start_loc[1])\n",
    "print(cnt)"
   ]
  },
  {
   "cell_type": "markdown",
   "metadata": {},
   "source": [
    "# 7-12 단지 번호 붙이기(DFS, BFS) 100"
   ]
  },
  {
   "cell_type": "code",
   "execution_count": null,
   "metadata": {},
   "outputs": [],
   "source": [
    "import sys\n",
    "#sys.stdin = open(\"input.txt\", 'r')\n",
    "n = int(input())\n",
    "house =[list(map(int, input())) for _ in range(n)]\n",
    "\n",
    "directions = [(-1,0), (1,0), (0,-1), (0,1)]\n",
    "cnt =0 \n",
    "ans = []\n",
    "temp = []\n",
    "for i in range(n):\n",
    "    for j in range(n) :\n",
    "        if house[i][j] == 1 :\n",
    "            cnt = 1\n",
    "            house[i][j] = 0 \n",
    "            temp.append((i,j))\n",
    "            while temp :\n",
    "                row, col = temp.pop(0)\n",
    "                for a, b in directions :\n",
    "                    row_move = row + a\n",
    "                    col_move = col + b \n",
    "                    if  0<=row_move <n and 0<=col_move <n and house[row_move][col_move] == 1 :\n",
    "                        house[row_move][col_move] = 0\n",
    "                        temp.append((row_move,col_move))\n",
    "                        cnt += 1\n",
    "            ans.append(cnt)\n",
    "ans = sorted(ans)\n",
    "print(len(ans))\n",
    "for i in ans :\n",
    "    print(i)"
   ]
  },
  {
   "cell_type": "markdown",
   "metadata": {},
   "source": [
    "# 7-13 섬나라 아일랜드(BFS) 100"
   ]
  },
  {
   "cell_type": "code",
   "execution_count": null,
   "metadata": {},
   "outputs": [],
   "source": [
    "import sys\n",
    "#sys.stdin=open(\"input.txt\", \"r\")\n",
    "#상하좌우 / 좌상 좌하 우상 우하 \n",
    "directions = [(-1,0),(1,0),(0,-1),(0,1),(-1,-1),(1,-1),(-1,1),(1,1)]\n",
    "n = int(input())\n",
    "island = [list(map(int, input().split())) for _ in range(n)]\n",
    "same_temp = []\n",
    "cnt = 0\n",
    "for row in range(n) :\n",
    "    for col in range(n) :\n",
    "        if island[row][col] == 1 :\n",
    "            island[row][col] = 0 \n",
    "            same_temp.append((row,col))\n",
    "            while same_temp :\n",
    "                current = same_temp.pop(0)\n",
    "                for a, b in directions :\n",
    "                    row_move = current[0] + a\n",
    "                    col_move = current[1] + b \n",
    "                    if 0<=row_move <n and 0<=col_move <n and island[row_move][col_move] == 1 :\n",
    "                        island[row_move][col_move] = 0\n",
    "                        same_temp.append((row_move,col_move))\n",
    "            cnt +=1 \n",
    "print(cnt)"
   ]
  },
  {
   "cell_type": "markdown",
   "metadata": {},
   "source": [
    "# 7-14 안전영역(BFS) 미완"
   ]
  },
  {
   "cell_type": "code",
   "execution_count": null,
   "metadata": {},
   "outputs": [],
   "source": []
  },
  {
   "cell_type": "code",
   "execution_count": null,
   "metadata": {},
   "outputs": [],
   "source": []
  },
  {
   "cell_type": "markdown",
   "metadata": {},
   "source": [
    "#  7 -15 토마토 BFS 60 time_limit "
   ]
  },
  {
   "cell_type": "code",
   "execution_count": null,
   "metadata": {},
   "outputs": [],
   "source": [
    "import sys\n",
    "#sys.stdin=open(\"input.txt\", \"r\")\n",
    "n, m = map(int, input().split())\n",
    "tomato = [list(map(int, input().split())) for _ in range(m)]\n",
    "\n",
    "\n",
    "ans = [[0]*n for _ in range(m)]\n",
    "temp = []\n",
    "dx = [-1,0,1,0]\n",
    "dy = [0,1,0,-1]\n",
    "for i in range(m) :\n",
    "    for j in range(n) :\n",
    "        if tomato[i][j] == 1 :\n",
    "            temp.append((i,j))\n",
    "while temp :\n",
    "    row, col = temp.pop(0)\n",
    "    for i in range(4) :\n",
    "        row_move = row + dx[i]\n",
    "        col_move = col + dy[i]\n",
    "        if 0<= row_move < m and 0<= col_move < n and tomato[row_move][col_move] == 0 :\n",
    "            tomato[row_move][col_move] = 1\n",
    "            ans[row_move][col_move] = ans[row][col] + 1\n",
    "            temp.append((row_move, col_move))\n",
    "# 개인 토마토 익었으면 1 아니면 0    \n",
    "# 안익은게 있다 -1\n",
    "# 다 익었다 -> result\n",
    "\n",
    "result1 = 0\n",
    "result2 = 1\n",
    "for i in range(m):\n",
    "    for j in range(n):\n",
    "        if tomato[i][j] == 0 :\n",
    "            result2 = -1\n",
    "        else :\n",
    "            if ans[i][j] > result :\n",
    "                result1 = ans[i][j]\n",
    "if result2 == -1 :\n",
    "    print(-1)\n",
    "else : print(result1)"
   ]
  },
  {
   "cell_type": "markdown",
   "metadata": {},
   "source": [
    "# 7 -16 사다리 타기 DFS 100"
   ]
  },
  {
   "cell_type": "code",
   "execution_count": null,
   "metadata": {},
   "outputs": [],
   "source": [
    "import sys\n",
    "#sys.stdin=open(\"input.txt\", \"r\")\n",
    "ladder = [list(map(int, input().split())) for _ in range(10)]\n",
    "\n",
    "\n",
    "check = [[0] * 10 for _ in range(10)]\n",
    "start= 0\n",
    "for i in range(10) :\n",
    "    if ladder[-1][i] == 2 :\n",
    "        start = i \n",
    "def DFS(row, col) : #맨밑에서 출발\n",
    "    check[row][col] = 1 \n",
    "    if row == 0 : # 도착하면\n",
    "        print(col)\n",
    "    else :\n",
    "        if  col -1 >=0 and ladder[row][col -1] == 1 and check[row][col - 1] == 0  :\n",
    "            DFS(row, col-1) # 위에가 1이고 간적없을때 \n",
    "\n",
    "        elif col +1 <= 9 and ladder[row][col +1] == 1 and check[row][col + 1] == 0  :\n",
    "            DFS(row, col+1) #오른쪽 1일때 간적없을때\n",
    "        \n",
    "        else : \n",
    "            DFS(row-1, col) # 위로 이동 \n",
    "            \n",
    "            \n",
    "            \n",
    "            \n",
    "            \n",
    "DFS(9,start)"
   ]
  },
  {
   "cell_type": "code",
   "execution_count": null,
   "metadata": {},
   "outputs": [],
   "source": []
  },
  {
   "cell_type": "code",
   "execution_count": null,
   "metadata": {},
   "outputs": [],
   "source": []
  },
  {
   "cell_type": "markdown",
   "metadata": {},
   "source": [
    "# 7-17 피자배달거리 DFS 미완"
   ]
  },
  {
   "cell_type": "code",
   "execution_count": null,
   "metadata": {},
   "outputs": [],
   "source": []
  }
 ],
 "metadata": {
  "kernelspec": {
   "display_name": "Python 3",
   "language": "python",
   "name": "python3"
  },
  "language_info": {
   "codemirror_mode": {
    "name": "ipython",
    "version": 3
   },
   "file_extension": ".py",
   "mimetype": "text/x-python",
   "name": "python",
   "nbconvert_exporter": "python",
   "pygments_lexer": "ipython3",
   "version": "3.7.1"
  }
 },
 "nbformat": 4,
 "nbformat_minor": 2
}
