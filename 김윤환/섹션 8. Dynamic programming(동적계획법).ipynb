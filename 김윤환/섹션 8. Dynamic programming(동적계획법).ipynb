{
 "cells": [
  {
   "cell_type": "markdown",
   "metadata": {},
   "source": [
    "# 병합정렬 / 퀵정렬"
   ]
  },
  {
   "cell_type": "code",
   "execution_count": null,
   "metadata": {},
   "outputs": [],
   "source": [
    "#병합정렬\n",
    "def Dsort(lt, rt) :\n",
    "    if lt < rt :\n",
    "        mid = (lt+rt) // 2\n",
    "        Dsort(lt, mid)\n",
    "        Dsort(mid+1, rt)\n",
    "        p1 = lt\n",
    "        p2 = mid+1\n",
    "        tmp = []\n",
    "        while p1<=mid and p2<=rt :\n",
    "            if arr[p1] < arr[p2] :\n",
    "                tmp.append(arr[p1])\n",
    "                p1 +=1\n",
    "            else :\n",
    "                tmp.append(arr[p2])\n",
    "                p2 += 1\n",
    "        if p1<=mid : tmp= tmp + arr[p1:mid+1]\n",
    "        if p2 <= rt : tmp = tmp + arr[p2 : rt+1]\n",
    "        for i in range(len(tmp)):\n",
    "            arr[lt+i] = tmp[i]\n",
    "\n",
    "if __name__==\"__main__\":\n",
    "    arr = [23,11,45,36,15,67,33,21] \n",
    "    print('before sort :', end = '')\n",
    "    print(arr)\n",
    "    Dsort(0,7)  \n",
    "    print()\n",
    "    print('after sort :', end = '')\n",
    "    print(arr)"
   ]
  },
  {
   "cell_type": "code",
   "execution_count": null,
   "metadata": {},
   "outputs": [],
   "source": [
    "#퀵정렬\n",
    "def Qsort(lt, rt):\n",
    "    if lt < rt :\n",
    "        pos = lt\n",
    "        pivot = arr[rt]\n",
    "        for i in range(lt,rt):\n",
    "            if arr[i] < pivot :\n",
    "                arr[i], arr[pos] = arr[pos] , arr[i]\n",
    "                pos += 1\n",
    "            arr[rt], arr[pos] = arr[pos] , arr[rt]\n",
    "            Qsort(lt, pos-1)\n",
    "            Qsort(pos+1, rt)\n",
    "if __name__==\"__main__\":\n",
    "    arr = [45,21,23,36,15,67,11,60,20,33] \n",
    "    print('before sort :', end = '')\n",
    "    print(arr)\n",
    "    Dsort(0,7)  \n",
    "    print()\n",
    "    print('after sort :', end = '')\n",
    "    print(arr)"
   ]
  },
  {
   "cell_type": "markdown",
   "metadata": {},
   "source": [
    "# 네트워크 선 자르기"
   ]
  },
  {
   "cell_type": "code",
   "execution_count": null,
   "metadata": {},
   "outputs": [],
   "source": [
    "#강의 시청\n",
    "#bottom up \n",
    "import sys\n",
    "#sys.stdin = open(\"input.txt\", 'r')\n",
    "n=int(input())\n",
    "dy=[0]*(n+1)\n",
    "dy[1]=1\n",
    "dy[2]=2\n",
    "for i in range(3, n+1):\n",
    "    dy[i]=dy[i-1]+dy[i-2]\n",
    "\n",
    "print(dy[n])\n"
   ]
  },
  {
   "cell_type": "code",
   "execution_count": null,
   "metadata": {},
   "outputs": [],
   "source": [
    "#top-down\n",
    "import sys\n",
    "#sys.stdin = open(\"input.txt\", 'r')\n",
    "\n",
    "def DFS(len):\n",
    "    if dy[len]>0:\n",
    "        return dy[len]\n",
    "    if len==1 or len==2:\n",
    "        return len\n",
    "    else:\n",
    "        dy[len]=DFS(len-1)+DFS(len-2)\n",
    "        return dy[len]\n",
    "\n",
    "if __name__==\"__main__\":\n",
    "    n=int(input())\n",
    "    dy=[0]*(n+1)\n",
    "    print(DFS(n))"
   ]
  },
  {
   "cell_type": "markdown",
   "metadata": {},
   "source": [
    "# 도전과제 :계단오르기"
   ]
  },
  {
   "cell_type": "code",
   "execution_count": 1,
   "metadata": {},
   "outputs": [
    {
     "name": "stdout",
     "output_type": "stream",
     "text": [
      "7\n",
      "21\n"
     ]
    }
   ],
   "source": [
    "#top-down\n",
    "import sys\n",
    "#sys.stdin = open(\"input.txt\", 'r')\n",
    "\n",
    "def DFS(len):\n",
    "    if dy[len]>0:\n",
    "        return dy[len]\n",
    "    if len==1 or len==2:\n",
    "        return len\n",
    "    else:\n",
    "        dy[len]=DFS(len-1)+DFS(len-2)\n",
    "        return dy[len]\n",
    "\n",
    "if __name__==\"__main__\":\n",
    "    n=int(input())\n",
    "    dy=[0]*(n+1)\n",
    "    print(DFS(n))"
   ]
  },
  {
   "cell_type": "markdown",
   "metadata": {},
   "source": [
    "# 도전과제 : 돌다리 건너기"
   ]
  },
  {
   "cell_type": "code",
   "execution_count": null,
   "metadata": {},
   "outputs": [],
   "source": [
    "#bottom up \n",
    "import sys\n",
    "#sys.stdin = open(\"input.txt\", 'r')\n",
    "n=int(input())\n",
    "n+=1\n",
    "dy=[0]*(n+1)\n",
    "dy[1]=1\n",
    "dy[2]=2\n",
    "for i in range(3, n+1):\n",
    "    dy[i]=dy[i-1]+dy[i-2]\n",
    "\n",
    "print(dy[n])"
   ]
  },
  {
   "cell_type": "markdown",
   "metadata": {},
   "source": [
    "# 최대 부분 증가수열"
   ]
  },
  {
   "cell_type": "code",
   "execution_count": null,
   "metadata": {},
   "outputs": [],
   "source": [
    "#소스코드 SSG\n",
    "import sys\n",
    "#sys.stdin = open(\"input.txt\", 'r')\n",
    "n = int(input())\n",
    "arr = list(map(int, input().split()))\n",
    "arr.insert(0,0)\n",
    "dy = [0] * (n+1)\n",
    "dy[1] = 1\n",
    "res = 0\n",
    "for i in range(2, n+1) :\n",
    "    max1 = 0\n",
    "    for j in range(i-1,0,-1) :\n",
    "        if arr[j] < arr[i] and dy[j] > max1 :\n",
    "            max1 = dy[j]\n",
    "        dy[i] = max1 + 1\n",
    "        if dy[i] > res :\n",
    "            res = dy[i]\n",
    "print(res)"
   ]
  },
  {
   "cell_type": "markdown",
   "metadata": {},
   "source": [
    "# 최대 선 연결하기 100"
   ]
  },
  {
   "cell_type": "code",
   "execution_count": null,
   "metadata": {},
   "outputs": [],
   "source": [
    "import sys\n",
    "#sys.stdin = open(\"input.txt\", 'r')\n",
    "n = int(input())\n",
    "arr = list(map(int, input().split()))\n",
    "arr.insert(0,0)\n",
    "dy = [0] * (n+1)\n",
    "dy[1] = 1\n",
    "res = 0\n",
    "for i in range(2, n+1) :\n",
    "    max1 = 0\n",
    "    for j in range(i-1,0,-1) :\n",
    "        if arr[j] < arr[i] and dy[j] > max1 :\n",
    "            max1 = dy[j]\n",
    "        dy[i] = max1 + 1\n",
    "        if dy[i] > res :\n",
    "            res = dy[i]\n",
    "print(res)"
   ]
  },
  {
   "cell_type": "code",
   "execution_count": null,
   "metadata": {},
   "outputs": [],
   "source": []
  },
  {
   "cell_type": "markdown",
   "metadata": {},
   "source": [
    "# 가장 높은 탑 쌓기 100"
   ]
  },
  {
   "cell_type": "code",
   "execution_count": null,
   "metadata": {},
   "outputs": [],
   "source": [
    "import sys\n",
    "#sys.stdin = open(\"input.txt\", 'r')\n",
    "n = int(input())\n",
    "arr = []\n",
    "for _ in range(n) :\n",
    "    s , h , w = map(int, input().split()) # size/ height/ weight\n",
    "    arr.append((s,h,w))\n",
    "    \n",
    "    \n",
    "arr = sorted(arr, reverse=True)\n",
    "arr.insert(0,0)\n",
    "\n",
    "dy = [0] * (n+1)\n",
    "dy[1] = arr[1][1]\n",
    "res = arr[1][1]\n",
    "for i in range(2, n+1) :\n",
    "    max1 = 0\n",
    "    for j in range(i-1,0,-1) :\n",
    "        if arr[j][2] > arr[i][2] and dy[j] > max1 :\n",
    "            max1 = dy[j]\n",
    "        dy[i] = max1 + arr[i][1]\n",
    "        if dy[i] > res :\n",
    "            res = dy[i]\n",
    "print(res)"
   ]
  },
  {
   "cell_type": "code",
   "execution_count": null,
   "metadata": {},
   "outputs": [],
   "source": []
  },
  {
   "cell_type": "markdown",
   "metadata": {},
   "source": [
    "# 알리바바와 40인의 도둑 \n",
    "## bottom_up 100\n",
    "## top_down 100"
   ]
  },
  {
   "cell_type": "code",
   "execution_count": null,
   "metadata": {},
   "outputs": [],
   "source": [
    "#bottom-up\n",
    "import sys\n",
    "#sys.stdin = open(\"input.txt\", 'r')\n",
    "n = int(input())\n",
    "run = [list(map(int, input().split())) for _ in range(n)]\n",
    "dy = [[0]* n for _ in range(n)]\n",
    "dy[0][0] = run[0][0]\n",
    "temp_sum1 = run[0][0]\n",
    "temp_sum2 = run[0][0]\n",
    "for i in range(1,n) :\n",
    "    temp_sum1 += run[0][i]\n",
    "    temp_sum2 += run[i][0]\n",
    "    dy[i][0] = temp_sum2\n",
    "    dy[0][i] = temp_sum1\n",
    "    \n",
    "for row in range(1,n) :\n",
    "    for col in range(1,n) :\n",
    "        choice = min(dy[row-1][col], dy[row][col-1] )\n",
    "        dy[row][col] =  choice + run[row][col]\n",
    "print(dy[-1][-1])"
   ]
  },
  {
   "cell_type": "code",
   "execution_count": null,
   "metadata": {},
   "outputs": [],
   "source": [
    "#top-down \n",
    "import sys\n",
    "#sys.stdin = open(\"input.txt\", 'r')\n",
    "n = int(input())\n",
    "run = [list(map(int, input().split())) for _ in range(n)]\n",
    "dy = [[0]* n for _ in range(n)]\n",
    "\n",
    "dy[0][0] = run[0][0]\n",
    "temp_sum1 = run[0][0]\n",
    "temp_sum2 = run[0][0]\n",
    "for i in range(1,n) :\n",
    "    temp_sum1 += run[0][i]\n",
    "    temp_sum2 += run[i][0]\n",
    "    dy[i][0] = temp_sum2\n",
    "    dy[0][i] = temp_sum1\n",
    "    \n",
    "    \n",
    "def DFS(row, col) :\n",
    "    #print(row,col)\n",
    "    if dy[row][col] > 0 :\n",
    "        return dy[row][col]\n",
    "    if row == 0 and col == 0 :\n",
    "        return run[0][0]\n",
    "    #elif 0<=row< n  and  0<= col < n and dy[row][col] == 0:\n",
    "    else :\n",
    "        choice = min( DFS(row-1, col) , DFS(row, col-1) )\n",
    "        dy[row][col] =  choice + run[row][col]\n",
    "        return dy[row][col]\n",
    "print(DFS(n-1, n-1) )"
   ]
  },
  {
   "cell_type": "code",
   "execution_count": null,
   "metadata": {},
   "outputs": [],
   "source": []
  }
 ],
 "metadata": {
  "kernelspec": {
   "display_name": "Python 3",
   "language": "python",
   "name": "python3"
  },
  "language_info": {
   "codemirror_mode": {
    "name": "ipython",
    "version": 3
   },
   "file_extension": ".py",
   "mimetype": "text/x-python",
   "name": "python",
   "nbconvert_exporter": "python",
   "pygments_lexer": "ipython3",
   "version": "3.7.1"
  }
 },
 "nbformat": 4,
 "nbformat_minor": 2
}
