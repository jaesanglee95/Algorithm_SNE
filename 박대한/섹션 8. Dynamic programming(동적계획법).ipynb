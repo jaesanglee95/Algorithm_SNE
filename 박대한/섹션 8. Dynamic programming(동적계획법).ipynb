{
 "cells": [
  {
   "cell_type": "code",
   "execution_count": null,
   "metadata": {},
   "outputs": [],
   "source": [
    "못 푼 문제 : 4(보고풀었음.)"
   ]
  },
  {
   "cell_type": "markdown",
   "metadata": {},
   "source": [
    "## 1. 네트워크 선 자르기(Bottom-up)"
   ]
  },
  {
   "cell_type": "code",
   "execution_count": null,
   "metadata": {},
   "outputs": [],
   "source": [
    "import sys\n",
    "#sys.stdin=open(\"input.txt\", \"r\")\n",
    "n = int(input())\n",
    "dy = [0]*(n+1)\n",
    "dy[1] = 1\n",
    "dy[2] = 2\n",
    "for i in range(3,n+1) : \n",
    "    dy[i] = dy[i-1] + dy[i-2]\n",
    "print(dy[n])"
   ]
  },
  {
   "cell_type": "markdown",
   "metadata": {},
   "source": [
    "## 2. 네트워크 선 자르기(Top-Down : 재귀, 메모이제이션)"
   ]
  },
  {
   "cell_type": "code",
   "execution_count": null,
   "metadata": {},
   "outputs": [],
   "source": [
    "import sys\n",
    "#sys.stdin=open(\"input.txt\", \"r\")\n",
    "def DFS(len) :\n",
    "    if dy[len]>0 : \n",
    "        return dy[len]\n",
    "    if len==1 or len==2 : \n",
    "        return len\n",
    "    else :\n",
    "        dy[len]=DFS(len-1)+DFS(len-2)\n",
    "        return dy[len]\n",
    "\n",
    "if __name__ == '__main__' : \n",
    "    n = int(input())\n",
    "    dy = [0]*(n+1)\n",
    "    print(DFS(n))"
   ]
  },
  {
   "cell_type": "markdown",
   "metadata": {},
   "source": [
    "## 도전과제 : 계단오르기(Top-Down : 메모이제이션)"
   ]
  },
  {
   "cell_type": "code",
   "execution_count": null,
   "metadata": {},
   "outputs": [],
   "source": [
    "import sys\n",
    "#sys.stdin=open(\"input.txt\", \"r\")\n",
    "def DFS(len) :\n",
    "    if dy[len]>0 : \n",
    "        return dy[len]\n",
    "    if len==1 or len==2 : \n",
    "        return len\n",
    "    else :\n",
    "        dy[len]=DFS(len-1)+DFS(len-2)\n",
    "        return dy[len]\n",
    "\n",
    "if __name__ == '__main__' : \n",
    "    n = int(input())\n",
    "    dy = [0]*(n+1)\n",
    "    print(DFS(n))"
   ]
  },
  {
   "cell_type": "markdown",
   "metadata": {},
   "source": [
    "## 도전과제 : 돌다리 건너기(Bottom-Up)"
   ]
  },
  {
   "cell_type": "code",
   "execution_count": null,
   "metadata": {},
   "outputs": [],
   "source": [
    "import sys\n",
    "sys.stdin=open(\"input.txt\", \"r\")\n",
    "def DFS(len) :\n",
    "    if dy[len]>0 :\n",
    "        return dy[len]\n",
    "    if len==1 or len==2 : \n",
    "        return len\n",
    "    else : \n",
    "        dy[len]=DFS(len-1)+DFS(len-2)\n",
    "        return dy[len]\n",
    "\n",
    "if __name__ == '__main__' : \n",
    "    n = int(input())\n",
    "    dy = [0]*(n+2)\n",
    "    print(DFS(n+1))"
   ]
  },
  {
   "cell_type": "markdown",
   "metadata": {},
   "source": [
    "## 4. 최대 부분 증가수열"
   ]
  },
  {
   "cell_type": "code",
   "execution_count": null,
   "metadata": {},
   "outputs": [],
   "source": [
    "# 강의 보고 풀었음\n",
    "import sys\n",
    "#sys.stdin=open(\"input.txt\", \"r\")\n",
    "n = int(input())\n",
    "numlist = [0]+list(map(int,input().split()))\n",
    "dy = [0]*(n+1)\n",
    "dy[1]=1\n",
    "for i in range(2,n+1) : \n",
    "    y=0\n",
    "    for j in range(0,i) : \n",
    "        if numlist[i]>numlist[j] : \n",
    "            if dy[j]>y :\n",
    "                y=dy[j]\n",
    "    dy[i] = y+1\n",
    "print(max(dy))"
   ]
  },
  {
   "cell_type": "markdown",
   "metadata": {},
   "source": [
    "## 5. 최대 선 연결하기"
   ]
  },
  {
   "cell_type": "code",
   "execution_count": null,
   "metadata": {},
   "outputs": [],
   "source": [
    "import sys\n",
    "#sys.stdin=open(\"input.txt\", \"r\")\n",
    "n = int(input())\n",
    "numlist = [0]+list(map(int,input().split()))\n",
    "dy = [0]*(n+1)\n",
    "dy[1]=1\n",
    "for i in range(2,n+1) : \n",
    "    y=0\n",
    "    for j in range(0,i) : \n",
    "        if numlist[i]>numlist[j] : \n",
    "            if dy[j]>y :\n",
    "                y=dy[j]\n",
    "    dy[i] = y+1\n",
    "print(max(dy))"
   ]
  },
  {
   "cell_type": "markdown",
   "metadata": {},
   "source": [
    "## 6. 가장 높은 탑 쌓기"
   ]
  },
  {
   "cell_type": "code",
   "execution_count": null,
   "metadata": {},
   "outputs": [],
   "source": [
    "import sys\n",
    "#sys.stdin=open(\"input.txt\", \"r\")\n",
    "# 벽돌을 순서대로 쌓는 문제가 아님.\n",
    "n = int(input())\n",
    "brick = [list(map(int,input().split())) for _ in range(n)] # 넓이, 높이, 무게\n",
    "brick.sort(key=lambda x : (x[0],x[2]),reverse=True) # 확인할때 나보다 뒤에 벽돌들은 확인할 필요가 없다 나보다 넓이가 좁기때문에.\n",
    "brick = [[0,0,0]] + brick\n",
    "dy = [0]*(n+1)\n",
    "dy[1] = brick[1][1]\n",
    "for i in range(2,n+1) : \n",
    "    y=0 \n",
    "    for j in range(0,i) : \n",
    "        if brick[i][0]<brick[j][0] and brick[i][2]<brick[j][2] : \n",
    "            if dy[j]>y :\n",
    "                y=dy[j] # 최대높이\n",
    "    dy[i] = y+brick[i][1]\n",
    "print(max(dy))"
   ]
  },
  {
   "cell_type": "markdown",
   "metadata": {},
   "source": [
    "## 7. 알리바바와 40인의 도둑(Bottom-Up)"
   ]
  },
  {
   "cell_type": "code",
   "execution_count": null,
   "metadata": {},
   "outputs": [],
   "source": [
    "import sys\n",
    "#sys.stdin=open(\"input.txt\", \"r\")\n",
    "n = int(input())\n",
    "grid = [list(map(int,input().split())) for _ in range(n)]\n",
    "energy = [[0]*n for _ in range(n)]\n",
    "for i in range(0,n) : \n",
    "    for j in range(0,n) : \n",
    "        y=0\n",
    "        list1=[]\n",
    "        if i-1 >= 0 : # 현재의 위칸 확인\n",
    "            list1.append(energy[i-1][j])\n",
    "        if j-1 >= 0 : # 현재의 왼쪽칸 확인\n",
    "            list1.append(energy[i][j-1])\n",
    "        if len(list1) == 0 : \n",
    "            energy[i][j] = grid[i][j]+y\n",
    "        else : \n",
    "            y = min(list1)\n",
    "            energy[i][j] = grid[i][j]+y\n",
    "print(energy[n-1][n-1])"
   ]
  },
  {
   "cell_type": "markdown",
   "metadata": {},
   "source": [
    "## 8. 알리바바와 40인의 도둑(Top-Down)"
   ]
  },
  {
   "cell_type": "code",
   "execution_count": null,
   "metadata": {},
   "outputs": [],
   "source": [
    "import sys\n",
    "#sys.stdin=open(\"input.txt\", \"r\")\n",
    "def DFS(i,j) : \n",
    "    if energy[i][j] > 0 : \n",
    "        return energy[i][j]\n",
    "    if i-1<0 :\n",
    "        energy[i][j] = grid[i][j] + DFS(i,j-1)\n",
    "        return energy[i][j]\n",
    "    elif j-1<0 : \n",
    "        energy[i][j] = grid[i][j] + DFS(i-1,j)\n",
    "        return energy[i][j]\n",
    "    else : \n",
    "        energy[i][j] = grid[i][j] + min(DFS(i,j-1),DFS(i-1,j))\n",
    "        return energy[i][j]\n",
    "\n",
    "if __name__=='__main__' : \n",
    "    n = int(input())\n",
    "    grid = [list(map(int,input().split())) for _ in range(n)]\n",
    "    energy = [[0]*n for _ in range(n)]\n",
    "    energy[0][0] = grid[0][0]\n",
    "    print(DFS(n-1,n-1))"
   ]
  },
  {
   "cell_type": "markdown",
   "metadata": {},
   "source": [
    "## 9. 가방문제(냅색 알고리즘)"
   ]
  },
  {
   "cell_type": "code",
   "execution_count": null,
   "metadata": {},
   "outputs": [],
   "source": []
  },
  {
   "cell_type": "markdown",
   "metadata": {},
   "source": [
    "## 10. 동전교환"
   ]
  },
  {
   "cell_type": "code",
   "execution_count": null,
   "metadata": {},
   "outputs": [],
   "source": []
  },
  {
   "cell_type": "markdown",
   "metadata": {},
   "source": [
    "## 11. 최대점수 구하기(냅색 알고리즘)"
   ]
  },
  {
   "cell_type": "code",
   "execution_count": null,
   "metadata": {},
   "outputs": [],
   "source": []
  },
  {
   "cell_type": "markdown",
   "metadata": {},
   "source": [
    "## 12. 플로이드 워샬 알고리즘"
   ]
  },
  {
   "cell_type": "code",
   "execution_count": null,
   "metadata": {},
   "outputs": [],
   "source": []
  },
  {
   "cell_type": "markdown",
   "metadata": {},
   "source": [
    "## 13. 회장뽑기(플로이드-워샬 응용)"
   ]
  },
  {
   "cell_type": "code",
   "execution_count": null,
   "metadata": {},
   "outputs": [],
   "source": []
  },
  {
   "cell_type": "markdown",
   "metadata": {},
   "source": [
    "## 14. 위상정렬(그래프 정렬)"
   ]
  },
  {
   "cell_type": "code",
   "execution_count": null,
   "metadata": {},
   "outputs": [],
   "source": []
  }
 ],
 "metadata": {
  "kernelspec": {
   "display_name": "Python 3",
   "language": "python",
   "name": "python3"
  },
  "language_info": {
   "codemirror_mode": {
    "name": "ipython",
    "version": 3
   },
   "file_extension": ".py",
   "mimetype": "text/x-python",
   "name": "python",
   "nbconvert_exporter": "python",
   "pygments_lexer": "ipython3",
   "version": "3.7.3"
  }
 },
 "nbformat": 4,
 "nbformat_minor": 2
}
