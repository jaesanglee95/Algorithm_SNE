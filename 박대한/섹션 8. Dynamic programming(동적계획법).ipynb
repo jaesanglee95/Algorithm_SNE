{
 "cells": [
  {
   "cell_type": "code",
   "execution_count": null,
   "metadata": {},
   "outputs": [],
   "source": [
    "못 푼 문제 : 4(보고풀었음.) 9(보고풀었음.) 11(80점) "
   ]
  },
  {
   "cell_type": "markdown",
   "metadata": {},
   "source": [
    "## 1. 네트워크 선 자르기(Bottom-up)"
   ]
  },
  {
   "cell_type": "code",
   "execution_count": null,
   "metadata": {},
   "outputs": [],
   "source": [
    "import sys\n",
    "#sys.stdin=open(\"input.txt\", \"r\")\n",
    "n = int(input())\n",
    "dy = [0]*(n+1)\n",
    "dy[1] = 1\n",
    "dy[2] = 2\n",
    "for i in range(3,n+1) : \n",
    "    dy[i] = dy[i-1] + dy[i-2]\n",
    "print(dy[n])"
   ]
  },
  {
   "cell_type": "markdown",
   "metadata": {},
   "source": [
    "## 2. 네트워크 선 자르기(Top-Down : 재귀, 메모이제이션)"
   ]
  },
  {
   "cell_type": "code",
   "execution_count": null,
   "metadata": {},
   "outputs": [],
   "source": [
    "import sys\n",
    "#sys.stdin=open(\"input.txt\", \"r\")\n",
    "def DFS(len) :\n",
    "    if dy[len]>0 : \n",
    "        return dy[len]\n",
    "    if len==1 or len==2 : \n",
    "        return len\n",
    "    else :\n",
    "        dy[len]=DFS(len-1)+DFS(len-2)\n",
    "        return dy[len]\n",
    "\n",
    "if __name__ == '__main__' : \n",
    "    n = int(input())\n",
    "    dy = [0]*(n+1)\n",
    "    print(DFS(n))"
   ]
  },
  {
   "cell_type": "markdown",
   "metadata": {},
   "source": [
    "## 도전과제 : 계단오르기(Top-Down : 메모이제이션)"
   ]
  },
  {
   "cell_type": "code",
   "execution_count": null,
   "metadata": {},
   "outputs": [],
   "source": [
    "import sys\n",
    "#sys.stdin=open(\"input.txt\", \"r\")\n",
    "def DFS(len) :\n",
    "    if dy[len]>0 : \n",
    "        return dy[len]\n",
    "    if len==1 or len==2 : \n",
    "        return len\n",
    "    else :\n",
    "        dy[len]=DFS(len-1)+DFS(len-2)\n",
    "        return dy[len]\n",
    "\n",
    "if __name__ == '__main__' : \n",
    "    n = int(input())\n",
    "    dy = [0]*(n+1)\n",
    "    print(DFS(n))"
   ]
  },
  {
   "cell_type": "markdown",
   "metadata": {},
   "source": [
    "## 도전과제 : 돌다리 건너기(Bottom-Up)"
   ]
  },
  {
   "cell_type": "code",
   "execution_count": null,
   "metadata": {},
   "outputs": [],
   "source": [
    "import sys\n",
    "sys.stdin=open(\"input.txt\", \"r\")\n",
    "def DFS(len) :\n",
    "    if dy[len]>0 :\n",
    "        return dy[len]\n",
    "    if len==1 or len==2 : \n",
    "        return len\n",
    "    else : \n",
    "        dy[len]=DFS(len-1)+DFS(len-2)\n",
    "        return dy[len]\n",
    "\n",
    "if __name__ == '__main__' : \n",
    "    n = int(input())\n",
    "    dy = [0]*(n+2)\n",
    "    print(DFS(n+1))"
   ]
  },
  {
   "cell_type": "markdown",
   "metadata": {},
   "source": [
    "## 4. 최대 부분 증가수열"
   ]
  },
  {
   "cell_type": "code",
   "execution_count": null,
   "metadata": {},
   "outputs": [],
   "source": [
    "# 강의 보고 풀었음\n",
    "import sys\n",
    "#sys.stdin=open(\"input.txt\", \"r\")\n",
    "n = int(input())\n",
    "numlist = [0]+list(map(int,input().split()))\n",
    "dy = [0]*(n+1)\n",
    "dy[1]=1\n",
    "for i in range(2,n+1) : \n",
    "    y=0\n",
    "    for j in range(0,i) : \n",
    "        if numlist[i]>numlist[j] : \n",
    "            if dy[j]>y :\n",
    "                y=dy[j]\n",
    "    dy[i] = y+1\n",
    "print(max(dy))"
   ]
  },
  {
   "cell_type": "markdown",
   "metadata": {},
   "source": [
    "## 5. 최대 선 연결하기"
   ]
  },
  {
   "cell_type": "code",
   "execution_count": null,
   "metadata": {},
   "outputs": [],
   "source": [
    "import sys\n",
    "#sys.stdin=open(\"input.txt\", \"r\")\n",
    "n = int(input())\n",
    "numlist = [0]+list(map(int,input().split()))\n",
    "dy = [0]*(n+1)\n",
    "dy[1]=1\n",
    "for i in range(2,n+1) : \n",
    "    y=0\n",
    "    for j in range(0,i) : \n",
    "        if numlist[i]>numlist[j] : \n",
    "            if dy[j]>y :\n",
    "                y=dy[j]\n",
    "    dy[i] = y+1\n",
    "print(max(dy))"
   ]
  },
  {
   "cell_type": "markdown",
   "metadata": {},
   "source": [
    "## 6. 가장 높은 탑 쌓기"
   ]
  },
  {
   "cell_type": "code",
   "execution_count": null,
   "metadata": {},
   "outputs": [],
   "source": [
    "import sys\n",
    "#sys.stdin=open(\"input.txt\", \"r\")\n",
    "# 벽돌을 순서대로 쌓는 문제가 아님.\n",
    "n = int(input())\n",
    "brick = [list(map(int,input().split())) for _ in range(n)] # 넓이, 높이, 무게\n",
    "brick.sort(key=lambda x : (x[0],x[2]),reverse=True) # 확인할때 나보다 뒤에 벽돌들은 확인할 필요가 없다 나보다 넓이가 좁기때문에.\n",
    "brick = [[0,0,0]] + brick\n",
    "dy = [0]*(n+1)\n",
    "dy[1] = brick[1][1]\n",
    "for i in range(2,n+1) : \n",
    "    y=0 \n",
    "    for j in range(0,i) : \n",
    "        if brick[i][0]<brick[j][0] and brick[i][2]<brick[j][2] : \n",
    "            if dy[j]>y :\n",
    "                y=dy[j] # 최대높이\n",
    "    dy[i] = y+brick[i][1]\n",
    "print(max(dy))"
   ]
  },
  {
   "cell_type": "markdown",
   "metadata": {},
   "source": [
    "## 7. 알리바바와 40인의 도둑(Bottom-Up)"
   ]
  },
  {
   "cell_type": "code",
   "execution_count": null,
   "metadata": {},
   "outputs": [],
   "source": [
    "import sys\n",
    "#sys.stdin=open(\"input.txt\", \"r\")\n",
    "n = int(input())\n",
    "grid = [list(map(int,input().split())) for _ in range(n)]\n",
    "energy = [[0]*n for _ in range(n)]\n",
    "for i in range(0,n) : \n",
    "    for j in range(0,n) : \n",
    "        y=0\n",
    "        list1=[]\n",
    "        if i-1 >= 0 : # 현재의 위칸 확인\n",
    "            list1.append(energy[i-1][j])\n",
    "        if j-1 >= 0 : # 현재의 왼쪽칸 확인\n",
    "            list1.append(energy[i][j-1])\n",
    "        if len(list1) == 0 : \n",
    "            energy[i][j] = grid[i][j]+y\n",
    "        else : \n",
    "            y = min(list1)\n",
    "            energy[i][j] = grid[i][j]+y\n",
    "print(energy[n-1][n-1])"
   ]
  },
  {
   "cell_type": "markdown",
   "metadata": {},
   "source": [
    "## 8. 알리바바와 40인의 도둑(Top-Down)"
   ]
  },
  {
   "cell_type": "code",
   "execution_count": null,
   "metadata": {},
   "outputs": [],
   "source": [
    "import sys\n",
    "#sys.stdin=open(\"input.txt\", \"r\")\n",
    "def DFS(i,j) : \n",
    "    if energy[i][j] > 0 : \n",
    "        return energy[i][j]\n",
    "    if i-1<0 :\n",
    "        energy[i][j] = grid[i][j] + DFS(i,j-1)\n",
    "        return energy[i][j]\n",
    "    elif j-1<0 : \n",
    "        energy[i][j] = grid[i][j] + DFS(i-1,j)\n",
    "        return energy[i][j]\n",
    "    else : \n",
    "        energy[i][j] = grid[i][j] + min(DFS(i,j-1),DFS(i-1,j))\n",
    "        return energy[i][j]\n",
    "\n",
    "if __name__=='__main__' : \n",
    "    n = int(input())\n",
    "    grid = [list(map(int,input().split())) for _ in range(n)]\n",
    "    energy = [[0]*n for _ in range(n)]\n",
    "    energy[0][0] = grid[0][0]\n",
    "    print(DFS(n-1,n-1))"
   ]
  },
  {
   "cell_type": "markdown",
   "metadata": {},
   "source": [
    "## 9. 가방문제(냅색 알고리즘)"
   ]
  },
  {
   "cell_type": "code",
   "execution_count": null,
   "metadata": {},
   "outputs": [],
   "source": [
    "# 60점 1,2,3정답, 4,5타임리밋\n",
    "import sys\n",
    "sys.stdin=open(\"input.txt\", \"r\")\n",
    "def DFS(L,weight,value) : \n",
    "    global maxvalue\n",
    "    if L==n : \n",
    "        if maxvalue < value : \n",
    "            maxvalue = value\n",
    "    else :\n",
    "        a = (limit-weight) // jewelry[L][0]\n",
    "        for i in range(a+1) : \n",
    "            DFS(L+1,weight+jewelry[L][0]*i,value+jewelry[L][1]*i)\n",
    "n,limit = map(int,input().split())\n",
    "jewelry = [list(map(int,input().split())) for _ in range(n)]\n",
    "maxvalue=0\n",
    "DFS(0,0,0)\n",
    "print(maxvalue)\n",
    "\n",
    "# 강의 듣고 품\n",
    "import sys\n",
    "#sys.stdin=open(\"input.txt\", \"r\")\n",
    "n,limit = map(int,input().split())\n",
    "jewelry = [list(map(int,input().split())) for _ in range(n)]\n",
    "dy=[0]*(limit+1) # dy[j] : jg을 담는 경우 최대가치\n",
    "for i in range(n) : \n",
    "    w,v = jewelry[i][0],jewelry[i][1]\n",
    "    for j in range(w,limit+1) :\n",
    "        if dy[j] < dy[j-w] + v : \n",
    "            dy[j] = dy[j-w] + v\n",
    "print(dy[limit])"
   ]
  },
  {
   "cell_type": "markdown",
   "metadata": {},
   "source": [
    "## 10. 동전교환"
   ]
  },
  {
   "cell_type": "code",
   "execution_count": null,
   "metadata": {},
   "outputs": [],
   "source": [
    "import sys\n",
    "#sys.stdin=open(\"input.txt\", \"r\")\n",
    "n = int(input())\n",
    "coin = list(map(int,input().split()))\n",
    "money = int(input())\n",
    "dy=[float('inf')]*(money+1)# dy[j] : j를 거슬러주는 경우 최소동전개수\n",
    "dy[0] = 0\n",
    "for i in range(n) : \n",
    "    x = coin[i]\n",
    "    for j in range(x,money+1) : \n",
    "        if dy[j] > dy[j-x] + 1 :\n",
    "            dy[j] = dy[j-x] + 1\n",
    "print(dy[money])\n"
   ]
  },
  {
   "cell_type": "markdown",
   "metadata": {},
   "source": [
    "## 11. 최대점수 구하기(냅색 알고리즘)"
   ]
  },
  {
   "cell_type": "code",
   "execution_count": null,
   "metadata": {},
   "outputs": [],
   "source": [
    "import sys\n",
    "#sys.stdin=open(\"input.txt\", \"r\")\n",
    "n,m = map(int,input().split())\n",
    "test = [list(map(int,input().split())) for _ in range(n)]\n",
    "dy=[0]*(m+1) # dy[j] : j분에 얻을 수 있는 최대점수\n",
    "ch=[-1]*(m+1) # 푼 문제의 인덱스 기입 \n",
    "for i in range(n) : \n",
    "    s,t = test[i][0],test[i][1]\n",
    "    for j in range(t,m+1) :  \n",
    "        if ch[j-t] != i  :\n",
    "            if dy[j] < dy[j-t] + s : \n",
    "                dy[j] = dy[j-t] + s\n",
    "                ch[j] = i\n",
    "print(max(dy))\n"
   ]
  },
  {
   "cell_type": "markdown",
   "metadata": {},
   "source": [
    "## 12. 플로이드 워샬 알고리즘"
   ]
  },
  {
   "cell_type": "code",
   "execution_count": null,
   "metadata": {},
   "outputs": [],
   "source": [
    "import sys\n",
    "#sys.stdin=open(\"input.txt\", \"r\")\n",
    "def DFS(now,cost) : \n",
    "    global mincost\n",
    "    if now == j : \n",
    "        if cost < mincost : \n",
    "            mincost = cost\n",
    "    else :\n",
    "        for x in range(m) : \n",
    "            if move[x][0] == now and ch[move[x][1]] == 0 : \n",
    "                ch[move[x][1]] = 1\n",
    "                DFS(move[x][1],cost+move[x][2])\n",
    "                ch[move[x][1]] = 0\n",
    "\n",
    "if __name__=='__main__' : \n",
    "    n,m = map(int,input().split())\n",
    "    move = [list(map(int,input().split())) for _ in range(m)]\n",
    "    for i in range(1,n+1) : \n",
    "        for j in range(1,n+1) : \n",
    "            mincost = float('inf')\n",
    "            ch=[0]*(n+1)\n",
    "            ch[i]=1\n",
    "            if i != j : \n",
    "                DFS(i,0)\n",
    "                if mincost == float('inf') : \n",
    "                    mincost = 'M'\n",
    "            else :\n",
    "                mincost=0\n",
    "            print(mincost,end= ' ')\n",
    "        print()"
   ]
  },
  {
   "cell_type": "markdown",
   "metadata": {},
   "source": [
    "## 13. 회장뽑기(플로이드-워샬 응용)"
   ]
  },
  {
   "cell_type": "code",
   "execution_count": null,
   "metadata": {},
   "outputs": [],
   "source": [
    "import sys\n",
    "#sys.stdin=open(\"input.txt\", \"r\")\n",
    "n = int(input())\n",
    "dis = [[50]*(n+1) for _ in range(n+1)]\n",
    "for i in range(1,n+1) : \n",
    "    dis[i][i] = 0\n",
    "while 1 : \n",
    "    a,b = map(int,input().split())\n",
    "    if a == -1 and b == -1 : \n",
    "        break\n",
    "    dis[a][b] = 1\n",
    "    dis[b][a] = 1\n",
    "for k in range(1,n+1) : \n",
    "    for i in range(1,n+1) : \n",
    "        for j in range(1,n+1) : \n",
    "            dis[i][j] = min(dis[i][j],dis[i][k]+dis[k][j])\n",
    "finalscore = [0]*(n+1)\n",
    "for i in range(1,n+1) : \n",
    "    finalscore[i] = max(dis[i][1:n+1])\n",
    "minscore = min(finalscore[1:n+1])\n",
    "print(minscore, finalscore.count(minscore))\n",
    "for i in range(1,n+1) : \n",
    "    if finalscore[i] == minscore : \n",
    "        print(i,end=' ')\n",
    "print()\n"
   ]
  },
  {
   "cell_type": "markdown",
   "metadata": {},
   "source": [
    "## 14. 위상정렬(그래프 정렬)"
   ]
  },
  {
   "cell_type": "code",
   "execution_count": null,
   "metadata": {},
   "outputs": [],
   "source": [
    "import sys\n",
    "sys.stdin=open(\"input.txt\", \"r\")\n",
    "from collections import deque\n",
    "n,m = map(int,input().split())\n",
    "info = [list(map(int,input().split())) for _ in range(m)]\n",
    "info = deque(info)\n",
    "tmp = deque()\n",
    "tmp.append(info.popleft())\n",
    "for a,b in info : \n",
    "    L = len(tmp)\n",
    "    if a in tmp[0] and b in tmp[0] : \n",
    "        dellist=[]\n",
    "        for i in range(L) : \n",
    "            a_idx,b_idx = tmp[i].index(a),tmp[i].index(b)\n",
    "            if a_idx > b_idx :\n",
    "                dellist.append(i)\n",
    "        for i in dellist : \n",
    "            tmp.popleft(i)\n",
    "    elif a in tmp[0] and b not in tmp[0] : \n",
    "        for i in range(L) :\n",
    "            x = tmp.popleft()\n",
    "            y = x.index(a)\n",
    "            for j in range(y+1,len(x)+1) : \n",
    "                new = x[:j]+[b]+x[j:]\n",
    "                tmp.append(new)\n",
    "    elif a not in tmp[0] and b in tmp[0] : \n",
    "        for i in range(L) :\n",
    "            x = tmp.popleft()\n",
    "            y = x.index(b)\n",
    "            for j in range(0,y+1) : \n",
    "                new = x[:j]+[a]+x[j:]\n",
    "                tmp.append(new)\n",
    "for i in tmp : \n",
    "    for j in i : \n",
    "        print(j,end=' ')\n",
    "    print()"
   ]
  }
 ],
 "metadata": {
  "kernelspec": {
   "display_name": "Python 3",
   "language": "python",
   "name": "python3"
  },
  "language_info": {
   "codemirror_mode": {
    "name": "ipython",
    "version": 3
   },
   "file_extension": ".py",
   "mimetype": "text/x-python",
   "name": "python",
   "nbconvert_exporter": "python",
   "pygments_lexer": "ipython3",
   "version": "3.7.3"
  }
 },
 "nbformat": 4,
 "nbformat_minor": 2
}
