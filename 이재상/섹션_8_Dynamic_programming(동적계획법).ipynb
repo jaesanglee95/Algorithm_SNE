{
  "nbformat": 4,
  "nbformat_minor": 0,
  "metadata": {
    "colab": {
      "name": "섹션 8. Dynamic programming(동적계획법)",
      "private_outputs": true,
      "provenance": [],
      "collapsed_sections": [],
      "authorship_tag": "ABX9TyMYM+vD8uws+huyzsjmWOIL",
      "include_colab_link": true
    },
    "kernelspec": {
      "name": "python3",
      "display_name": "Python 3"
    }
  },
  "cells": [
    {
      "cell_type": "markdown",
      "metadata": {
        "id": "view-in-github",
        "colab_type": "text"
      },
      "source": [
        "<a href=\"https://colab.research.google.com/github/jaesanglee95/Algorithm_SNE/blob/main/%EC%9D%B4%EC%9E%AC%EC%83%81/%EC%84%B9%EC%85%98_8_Dynamic_programming(%EB%8F%99%EC%A0%81%EA%B3%84%ED%9A%8D%EB%B2%95).ipynb\" target=\"_parent\"><img src=\"https://colab.research.google.com/assets/colab-badge.svg\" alt=\"Open In Colab\"/></a>"
      ]
    },
    {
      "cell_type": "markdown",
      "metadata": {
        "id": "wwbwRqRJimnh"
      },
      "source": [
        "## 섹션 8. Dynamic programming(동적계획법)\n",
        "\n",
        "이재상\n"
      ]
    },
    {
      "cell_type": "markdown",
      "metadata": {
        "id": "ni27p13CisbX"
      },
      "source": [
        "### 1.네트워크 선 자르기(Bottom-Up)"
      ]
    },
    {
      "cell_type": "code",
      "metadata": {
        "id": "xov9Var9i230"
      },
      "source": [
        "import sys\n",
        "# sys.stdin = open('input.txt', 'rt')\n",
        "\n",
        "N = int(input())\n",
        "ch = [0]*(N+1)\n",
        "ch[1] = 1\n",
        "ch[2] = 2\n",
        "\n",
        "for i in range(3, N+1) :\n",
        "    ch[i] = ch[i-2] + ch[i-1]\n",
        "\n",
        "print(ch[N])"
      ],
      "execution_count": null,
      "outputs": []
    },
    {
      "cell_type": "markdown",
      "metadata": {
        "id": "G6RzlQ-Pi5YP"
      },
      "source": [
        "### 2.네트워크 선 자르기(Top-Down : 재귀, 메모이제이션)"
      ]
    },
    {
      "cell_type": "code",
      "metadata": {
        "id": "kITqL9kQjFnP"
      },
      "source": [
        "import sys\n",
        "# sys.stdin = open('input.txt', 'rt')\n",
        "\n",
        "def DFS(i) : \n",
        "    if ch[i] != 0 :\n",
        "        return ch[i]\n",
        "    else :\n",
        "        ch[i] = DFS(i-1) + DFS(i-2)\n",
        "        return ch[i]\n",
        "\n",
        "\n",
        "if __name__ == \"__main__\" :\n",
        "    N = int(input())\n",
        "    ch = [0]*(N+1)\n",
        "    ch[1] = 1\n",
        "    ch[2] = 2\n",
        "    print(DFS(N))"
      ],
      "execution_count": null,
      "outputs": []
    },
    {
      "cell_type": "markdown",
      "metadata": {
        "id": "YG7FFwvwkvhr"
      },
      "source": [
        "### 3-1. 도전과제 계단오르기(Top-Down : 메모이제이션)\n"
      ]
    },
    {
      "cell_type": "code",
      "metadata": {
        "id": "Q1DWO0mek01e"
      },
      "source": [
        "import sys\n",
        "# sys.stdin = open('input.txt', 'rt')\n",
        "\n",
        "def DFS(i) : \n",
        "    if ch[i] != 0 :\n",
        "        return ch[i]\n",
        "    else :\n",
        "        ch[i] = DFS(i-1) + DFS(i-2)\n",
        "        return ch[i]\n",
        "\n",
        "\n",
        "if __name__ == \"__main__\" :\n",
        "    N = int(input())\n",
        "    ch = [0]*(N+1)\n",
        "    ch[1] = 1\n",
        "    ch[2] = 2\n",
        "    print(DFS(N))"
      ],
      "execution_count": null,
      "outputs": []
    },
    {
      "cell_type": "markdown",
      "metadata": {
        "id": "TI8coKsYlD66"
      },
      "source": [
        "### 3-2. 도전과제 돌다리 건너기(Bottom-Up)\n"
      ]
    },
    {
      "cell_type": "code",
      "metadata": {
        "id": "31XwbhLrlOl2"
      },
      "source": [
        "import sys\n",
        "# sys.stdin = open('input.txt', 'rt')\n",
        "\n",
        "N = int(input())\n",
        "ch = [0]*(N+1)\n",
        "ch[0] = 1\n",
        "ch[1] = 2\n",
        "\n",
        "for i in range(2,N+1) :\n",
        "    ch[i] = ch[i-2] + ch[i-1]\n",
        "\n",
        "print(ch[N])"
      ],
      "execution_count": null,
      "outputs": []
    },
    {
      "cell_type": "markdown",
      "metadata": {
        "id": "A5N-gw3ql0Nq"
      },
      "source": [
        "### 4. 최대 부분 증가수열"
      ]
    },
    {
      "cell_type": "code",
      "metadata": {
        "id": "JbO78Kt8l3cw"
      },
      "source": [
        "# LIS 구글링 도움받음\n",
        "import sys\n",
        "# sys.stdin = open('input.txt', 'rt')\n",
        "\n",
        "N = int(input())\n",
        "L = list(map(int, input().split()))\n",
        "a= [L[0]]\n",
        "ans = 1\n",
        "for i in L[1:] :\n",
        "    if i > a[-1] :\n",
        "        a.append(i)\n",
        "        ans += 1\n",
        "    else :\n",
        "        for j in range(ans) :\n",
        "            if i < a[j] :\n",
        "                a[j] = i\n",
        "                break\n",
        "\n",
        "print(ans)"
      ],
      "execution_count": null,
      "outputs": []
    },
    {
      "cell_type": "markdown",
      "metadata": {
        "id": "TKLvLurFpORP"
      },
      "source": [
        "### 5. 최대 선 연결하기"
      ]
    },
    {
      "cell_type": "code",
      "metadata": {
        "id": "YdhqIMdRpRtz"
      },
      "source": [
        "import sys\n",
        "# sys.stdin = open('input.txt', 'rt')\n",
        "\n",
        "N = int(input())\n",
        "R = list(map(int, input().split()))\n",
        "L = [0]*(N+1)\n",
        "for idx, n in enumerate(R) :\n",
        "    L[n] = idx+1\n",
        "\n",
        "a = [L[1]]\n",
        "ans = 1\n",
        "for i in L[2:] :\n",
        "    if i > a[-1] :\n",
        "        a.append(i)\n",
        "        ans += 1\n",
        "    else :\n",
        "        for j in range(ans) :\n",
        "            if i < a[j] :\n",
        "                a[j] = i\n",
        "                break\n",
        "\n",
        "print(ans)"
      ],
      "execution_count": null,
      "outputs": []
    },
    {
      "cell_type": "markdown",
      "metadata": {
        "id": "xD-XKYDn2TJr"
      },
      "source": [
        "### 6. 가장 높은 탑 쌓기"
      ]
    },
    {
      "cell_type": "code",
      "metadata": {
        "id": "AGv0Os_xY3lo"
      },
      "source": [
        "패쓰"
      ],
      "execution_count": null,
      "outputs": []
    },
    {
      "cell_type": "markdown",
      "metadata": {
        "id": "emqh4XQ02b1H"
      },
      "source": [
        "### 7. 알리바바와 40인의 도둑(Bottom-Up)"
      ]
    },
    {
      "cell_type": "code",
      "metadata": {
        "id": "TG_zX6SGYy8o"
      },
      "source": [
        "import sys\n",
        "# sys.stdin = open('input.txt', 'rt')\n",
        "\n",
        "N = int(input())\n",
        "M = [[float('inf')]*(N+1)] + [[float('inf')]+list(map(int, input().split())) for _ in range(N)]\n",
        "ch = [[float('inf')]*(N+1) for _ in range(N+1)]\n",
        "ch[1][1] = M[1][1]\n",
        "\n",
        "for r in range(1, N+1) :\n",
        "    for c in range(1, N+1) :\n",
        "        if r == c == 1 :\n",
        "            continue\n",
        "\n",
        "        up = ch[r-1][c]\n",
        "        lt = ch[r][c-1] \n",
        "        if up > lt :\n",
        "            ch[r][c] = lt + M[r][c]\n",
        "        else :\n",
        "            ch[r][c] = up + M[r][c]\n",
        "\n",
        "print(ch[N][N])"
      ],
      "execution_count": null,
      "outputs": []
    },
    {
      "cell_type": "markdown",
      "metadata": {
        "id": "B5dLUEHVY6oU"
      },
      "source": [
        "### 8. 알리바바와 40인의 도둑(Top-Down)"
      ]
    },
    {
      "cell_type": "code",
      "metadata": {
        "id": "2Yum_UvZY9Xc"
      },
      "source": [
        "import sys\n",
        "#sys.stdin = open('input.txt', 'rt')\n",
        "\n",
        "def DFS(r, c) : \n",
        "    if ch[r][c] != 0 :\n",
        "        return ch[r][c] \n",
        "    \n",
        "    else :\n",
        "        if r == 0 :\n",
        "            ch[r][c] = DFS(r, c-1) + M[r][c]\n",
        "        elif c == 0 :\n",
        "            ch[r][c] = DFS(r -1, c) + M[r][c]\n",
        "        else :\n",
        "            if DFS(r-1, c)  < DFS(r, c-1) :\n",
        "                ch[r][c] = DFS(r-1, c) + M[r][c]\n",
        "            else :\n",
        "                ch[r][c] = DFS(r, c-1) + M[r][c]\n",
        "\n",
        "        return ch[r][c]\n",
        "\n",
        "if __name__ == \"__main__\" :\n",
        "    N = int(input())\n",
        "    M = [list(map(int, input().split())) for _ in range(N)]\n",
        "    ch = [[0]*N for _ in range(N)]\n",
        "    ch[0][0] = M[0][0]\n",
        "    print(DFS(N-1,N-1))"
      ],
      "execution_count": null,
      "outputs": []
    }
  ]
}