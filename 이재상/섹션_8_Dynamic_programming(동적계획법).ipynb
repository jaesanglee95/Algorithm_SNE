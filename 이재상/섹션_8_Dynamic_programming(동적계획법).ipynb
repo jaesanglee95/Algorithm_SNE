{
  "nbformat": 4,
  "nbformat_minor": 0,
  "metadata": {
    "colab": {
      "name": "섹션 8. Dynamic programming(동적계획법)",
      "private_outputs": true,
      "provenance": [],
      "collapsed_sections": [],
      "authorship_tag": "ABX9TyN03Psb4WSiuR1GZzeIwcGM",
      "include_colab_link": true
    },
    "kernelspec": {
      "name": "python3",
      "display_name": "Python 3"
    }
  },
  "cells": [
    {
      "cell_type": "markdown",
      "metadata": {
        "id": "view-in-github",
        "colab_type": "text"
      },
      "source": [
        "<a href=\"https://colab.research.google.com/github/jaesanglee95/Algorithm_SNE/blob/main/%EC%9D%B4%EC%9E%AC%EC%83%81/%EC%84%B9%EC%85%98_8_Dynamic_programming(%EB%8F%99%EC%A0%81%EA%B3%84%ED%9A%8D%EB%B2%95).ipynb\" target=\"_parent\"><img src=\"https://colab.research.google.com/assets/colab-badge.svg\" alt=\"Open In Colab\"/></a>"
      ]
    },
    {
      "cell_type": "markdown",
      "metadata": {
        "id": "wwbwRqRJimnh"
      },
      "source": [
        "## 섹션 8. Dynamic programming(동적계획법)\n",
        "\n",
        "이재상\n"
      ]
    },
    {
      "cell_type": "markdown",
      "metadata": {
        "id": "ni27p13CisbX"
      },
      "source": [
        "### 1.네트워크 선 자르기(Bottom-Up)"
      ]
    },
    {
      "cell_type": "code",
      "metadata": {
        "id": "xov9Var9i230"
      },
      "source": [
        "import sys\n",
        "# sys.stdin = open('input.txt', 'rt')\n",
        "\n",
        "N = int(input())\n",
        "ch = [0]*(N+1)\n",
        "ch[1] = 1\n",
        "ch[2] = 2\n",
        "\n",
        "for i in range(3, N+1) :\n",
        "    ch[i] = ch[i-2] + ch[i-1]\n",
        "\n",
        "print(ch[N])"
      ],
      "execution_count": null,
      "outputs": []
    },
    {
      "cell_type": "markdown",
      "metadata": {
        "id": "G6RzlQ-Pi5YP"
      },
      "source": [
        "### 2.네트워크 선 자르기(Top-Down : 재귀, 메모이제이션)"
      ]
    },
    {
      "cell_type": "code",
      "metadata": {
        "id": "kITqL9kQjFnP"
      },
      "source": [
        "import sys\n",
        "# sys.stdin = open('input.txt', 'rt')\n",
        "\n",
        "def DFS(i) : \n",
        "    if ch[i] != 0 :\n",
        "        return ch[i]\n",
        "    else :\n",
        "        ch[i] = DFS(i-1) + DFS(i-2)\n",
        "        return ch[i]\n",
        "\n",
        "\n",
        "if __name__ == \"__main__\" :\n",
        "    N = int(input())\n",
        "    ch = [0]*(N+1)\n",
        "    ch[1] = 1\n",
        "    ch[2] = 2\n",
        "    print(DFS(N))"
      ],
      "execution_count": null,
      "outputs": []
    },
    {
      "cell_type": "markdown",
      "metadata": {
        "id": "YG7FFwvwkvhr"
      },
      "source": [
        "### 3-1. 도전과제 계단오르기(Top-Down : 메모이제이션)\n"
      ]
    },
    {
      "cell_type": "code",
      "metadata": {
        "id": "Q1DWO0mek01e"
      },
      "source": [
        "import sys\n",
        "# sys.stdin = open('input.txt', 'rt')\n",
        "\n",
        "def DFS(i) : \n",
        "    if ch[i] != 0 :\n",
        "        return ch[i]\n",
        "    else :\n",
        "        ch[i] = DFS(i-1) + DFS(i-2)\n",
        "        return ch[i]\n",
        "\n",
        "\n",
        "if __name__ == \"__main__\" :\n",
        "    N = int(input())\n",
        "    ch = [0]*(N+1)\n",
        "    ch[1] = 1\n",
        "    ch[2] = 2\n",
        "    print(DFS(N))"
      ],
      "execution_count": null,
      "outputs": []
    },
    {
      "cell_type": "markdown",
      "metadata": {
        "id": "TI8coKsYlD66"
      },
      "source": [
        "### 3-2. 도전과제 돌다리 건너기(Bottom-Up)\n"
      ]
    },
    {
      "cell_type": "code",
      "metadata": {
        "id": "31XwbhLrlOl2"
      },
      "source": [
        "import sys\n",
        "# sys.stdin = open('input.txt', 'rt')\n",
        "\n",
        "N = int(input())\n",
        "ch = [0]*(N+1)\n",
        "ch[0] = 1\n",
        "ch[1] = 2\n",
        "\n",
        "for i in range(2,N+1) :\n",
        "    ch[i] = ch[i-2] + ch[i-1]\n",
        "\n",
        "print(ch[N])"
      ],
      "execution_count": null,
      "outputs": []
    },
    {
      "cell_type": "markdown",
      "metadata": {
        "id": "A5N-gw3ql0Nq"
      },
      "source": [
        "### 4. 최대 부분 증가수열"
      ]
    },
    {
      "cell_type": "code",
      "metadata": {
        "id": "JbO78Kt8l3cw"
      },
      "source": [
        "# LIS 구글링 도움받음\n",
        "import sys\n",
        "# sys.stdin = open('input.txt', 'rt')\n",
        "\n",
        "N = int(input())\n",
        "L = list(map(int, input().split()))\n",
        "a= [L[0]]\n",
        "ans = 1\n",
        "for i in L[1:] :\n",
        "    if i > a[-1] :\n",
        "        a.append(i)\n",
        "        ans += 1\n",
        "    else :\n",
        "        for j in range(ans) :\n",
        "            if i < a[j] :\n",
        "                a[j] = i\n",
        "                break\n",
        "\n",
        "print(ans)"
      ],
      "execution_count": null,
      "outputs": []
    },
    {
      "cell_type": "markdown",
      "metadata": {
        "id": "TKLvLurFpORP"
      },
      "source": [
        "### 5. 최대 선 연결하기"
      ]
    },
    {
      "cell_type": "code",
      "metadata": {
        "id": "YdhqIMdRpRtz"
      },
      "source": [
        "import sys\n",
        "# sys.stdin = open('input.txt', 'rt')\n",
        "\n",
        "N = int(input())\n",
        "R = list(map(int, input().split()))\n",
        "L = [0]*(N+1)\n",
        "for idx, n in enumerate(R) :\n",
        "    L[n] = idx+1\n",
        "\n",
        "a = [L[1]]\n",
        "ans = 1\n",
        "for i in L[2:] :\n",
        "    if i > a[-1] :\n",
        "        a.append(i)\n",
        "        ans += 1\n",
        "    else :\n",
        "        for j in range(ans) :\n",
        "            if i < a[j] :\n",
        "                a[j] = i\n",
        "                break\n",
        "\n",
        "print(ans)"
      ],
      "execution_count": null,
      "outputs": []
    },
    {
      "cell_type": "markdown",
      "metadata": {
        "id": "xD-XKYDn2TJr"
      },
      "source": [
        "### 6. 가장 높은 탑 쌓기 : 수정완료"
      ]
    },
    {
      "cell_type": "code",
      "metadata": {
        "id": "AGv0Os_xY3lo"
      },
      "source": [
        "import sys\n",
        "#sys.stdin = open('input.txt', 'rt')\n",
        "\n",
        "N = int(input())\n",
        "a = [list(map(int, input().split())) for _ in range(N)]\n",
        "a.sort(reverse = True)\n",
        "dy = [0]*N\n",
        "we = [0]*N\n",
        "\n",
        "for i in range(N) :\n",
        "    s, h, w = a[i]\n",
        "    we[i] = w\n",
        "    tmp = 0\n",
        "    for j in range(i) :\n",
        "        if we[j] > w :\n",
        "            if dy[j] > tmp :\n",
        "                tmp = dy[j]\n",
        "    dy[i] = tmp + h\n",
        "  \n",
        "print(max(dy))"
      ],
      "execution_count": null,
      "outputs": []
    },
    {
      "cell_type": "markdown",
      "metadata": {
        "id": "emqh4XQ02b1H"
      },
      "source": [
        "### 7. 알리바바와 40인의 도둑(Bottom-Up)"
      ]
    },
    {
      "cell_type": "code",
      "metadata": {
        "id": "TG_zX6SGYy8o"
      },
      "source": [
        "import sys\n",
        "# sys.stdin = open('input.txt', 'rt')\n",
        "\n",
        "N = int(input())\n",
        "M = [[float('inf')]*(N+1)] + [[float('inf')]+list(map(int, input().split())) for _ in range(N)]\n",
        "ch = [[float('inf')]*(N+1) for _ in range(N+1)]\n",
        "ch[1][1] = M[1][1]\n",
        "\n",
        "for r in range(1, N+1) :\n",
        "    for c in range(1, N+1) :\n",
        "        if r == c == 1 :\n",
        "            continue\n",
        "\n",
        "        up = ch[r-1][c]\n",
        "        lt = ch[r][c-1] \n",
        "        if up > lt :\n",
        "            ch[r][c] = lt + M[r][c]\n",
        "        else :\n",
        "            ch[r][c] = up + M[r][c]\n",
        "\n",
        "print(ch[N][N])"
      ],
      "execution_count": null,
      "outputs": []
    },
    {
      "cell_type": "markdown",
      "metadata": {
        "id": "B5dLUEHVY6oU"
      },
      "source": [
        "### 8. 알리바바와 40인의 도둑(Top-Down)"
      ]
    },
    {
      "cell_type": "code",
      "metadata": {
        "id": "2Yum_UvZY9Xc"
      },
      "source": [
        "import sys\n",
        "#sys.stdin = open('input.txt', 'rt')\n",
        "\n",
        "def DFS(r, c) : \n",
        "    if ch[r][c] != 0 :\n",
        "        return ch[r][c] \n",
        "    \n",
        "    else :\n",
        "        if r == 0 :\n",
        "            ch[r][c] = DFS(r, c-1) + M[r][c]\n",
        "        elif c == 0 :\n",
        "            ch[r][c] = DFS(r -1, c) + M[r][c]\n",
        "        else :\n",
        "            if DFS(r-1, c)  < DFS(r, c-1) :\n",
        "                ch[r][c] = DFS(r-1, c) + M[r][c]\n",
        "            else :\n",
        "                ch[r][c] = DFS(r, c-1) + M[r][c]\n",
        "\n",
        "        return ch[r][c]\n",
        "\n",
        "if __name__ == \"__main__\" :\n",
        "    N = int(input())\n",
        "    M = [list(map(int, input().split())) for _ in range(N)]\n",
        "    ch = [[0]*N for _ in range(N)]\n",
        "    ch[0][0] = M[0][0]\n",
        "    print(DFS(N-1,N-1))"
      ],
      "execution_count": null,
      "outputs": []
    },
    {
      "cell_type": "markdown",
      "metadata": {
        "id": "5yhqeQWQWH_6"
      },
      "source": [
        "### 9. 가방문제(냅색 알고리즘)"
      ]
    },
    {
      "cell_type": "code",
      "metadata": {
        "id": "2KfgqDEXWIOn"
      },
      "source": [
        "import sys\n",
        "#sys.stdin = open('input.txt', 'rt')\n",
        "\n",
        "def DFS(w, v) :\n",
        "    if w > L or dy[w] > v:\n",
        "        return\n",
        "    \n",
        "    else :\n",
        "        dy[w] = v\n",
        "    \n",
        "    for w1, v1 in a :\n",
        "        DFS(w + w1, v + v1)\n",
        "\n",
        "if __name__ == \"__main__\" :\n",
        "    N, L = map(int,input().split())\n",
        "    a = [list(map(int, input().split())) for _ in range(N)]\n",
        "    a.sort()\n",
        "    dy = [0]*(L+1)\n",
        "    DFS(0, 0)\n",
        "    print(max(dy))"
      ],
      "execution_count": null,
      "outputs": []
    },
    {
      "cell_type": "markdown",
      "metadata": {
        "id": "yCm-IRhjWN2z"
      },
      "source": [
        "### 10. 동전교환"
      ]
    },
    {
      "cell_type": "code",
      "metadata": {
        "id": "BOLKqvdDZfeI"
      },
      "source": [
        "import sys\n",
        "#sys.stdin = open('input.txt', 'rt')\n",
        "\n",
        "if __name__ == \"__main__\" :\n",
        "    N = int(input())\n",
        "    c = list(map(int, input().split()))\n",
        "    c.sort(reverse = True)\n",
        "    M = int(input())\n",
        "    dy = [M]*(M+1)\n",
        "    dy[0] = 0\n",
        "    for i in c :\n",
        "        for j in range(i, M+1) :\n",
        "            dy[j] = min(dy[j], dy[j-i] + 1)\n",
        "    print(dy[M])\n"
      ],
      "execution_count": null,
      "outputs": []
    },
    {
      "cell_type": "markdown",
      "metadata": {
        "id": "othpOf5OZkcx"
      },
      "source": [
        "### 11. 최대점수 구하기(냅색 알고리즘)"
      ]
    },
    {
      "cell_type": "code",
      "metadata": {
        "id": "vjneoPpvZnTy"
      },
      "source": [
        "import sys\n",
        "#sys.stdin = open('input.txt', 'rt')\n",
        "\n",
        "if __name__ == \"__main__\" :\n",
        "    N, M = map(int, input().split())\n",
        "    dy = [0]*(M+1)\n",
        "    ch = [0]\n",
        "    tmp2 = []\n",
        "    for _ in range(N) :\n",
        "        s, t = map(int, input().split())\n",
        "        ch += tmp2\n",
        "        tmp1 = []\n",
        "        tmp2 = []\n",
        "        for j in set(ch) :\n",
        "            k = t + j\n",
        "            if k <= M :\n",
        "                tmp1.append((dy[k-t] + s,  k))\n",
        "        for s1, t1 in tmp1 :\n",
        "            dy[t1] = max(dy[t1], s1)\n",
        "            tmp2.append(t1)\n",
        "    print(max(dy))"
      ],
      "execution_count": null,
      "outputs": []
    },
    {
      "cell_type": "markdown",
      "metadata": {
        "id": "DweagSs6jXIQ"
      },
      "source": [
        "### 12. 플로이드 워샬 알고리즘"
      ]
    },
    {
      "cell_type": "code",
      "metadata": {
        "id": "Yb6UVc9DjXVH"
      },
      "source": [
        "import sys\n",
        "#sys.stdin = open('input.txt', 'rt')\n",
        "\n",
        "N, M = map(int, input().split())\n",
        "a = [list(map(int, input().split())) for _ in range(M)]\n",
        "dy = []\n",
        "for i in range(N) :\n",
        "    tmp = [-1]*N\n",
        "    tmp[i] = 0\n",
        "    dy.append(tmp)\n",
        "\n",
        "while 1 :\n",
        "    cnt = 0\n",
        "    #start, end, cost\n",
        "    for s, e, c in a :\n",
        "        tmp = dy[s-1][e-1]\n",
        "        if tmp == -1 :\n",
        "            dy[s-1][e-1] = c\n",
        "            cnt += 1\n",
        "        else :\n",
        "            for j in range(N) :\n",
        "                if dy[e-1][j] > 0 :\n",
        "                    if dy[s-1][j] == -1 or dy[s-1][j]> dy[e-1][j] + tmp :\n",
        "                        dy[s-1][j] = dy[e-1][j] + tmp\n",
        "                        cnt += 1\n",
        "    \n",
        "    if cnt == 0 :\n",
        "        break\n",
        "\n",
        "for r in dy :\n",
        "    for c in r :\n",
        "        if c == -1 :\n",
        "            print(\"M\", end = \" \")\n",
        "        else :\n",
        "            print(c, end = \" \")\n",
        "    print()\n"
      ],
      "execution_count": null,
      "outputs": []
    },
    {
      "cell_type": "markdown",
      "metadata": {
        "id": "VEBLbv5DtdN0"
      },
      "source": [
        "### 13. 회장뽑기(플로이드-워샬 응용) : time-limit 80점"
      ]
    },
    {
      "cell_type": "code",
      "metadata": {
        "id": "KYc7P8AKtfOY"
      },
      "source": [
        "import sys\n",
        "from collections import deque\n",
        "#sys.stdin = open('input.txt', 'rt')\n",
        "\n",
        "def BFS(s, e) :\n",
        "    a = deque()\n",
        "    a.append((s, 0))\n",
        "    while a :\n",
        "        tmp, dis = a.popleft()\n",
        "        for j in range(N) :\n",
        "            if dy[tmp][j] == 1:\n",
        "                if j == e :\n",
        "                    return dis + 1\n",
        "                else :\n",
        "                    a.append((j, dis+1))\n",
        "\n",
        "if __name__ == \"__main__\" :\n",
        "    N = int(input())\n",
        "    dy = [[0]*N for _ in range(N)]\n",
        "\n",
        "    while 1 :\n",
        "        a, b = map(int, input().split())\n",
        "        if a == -1 and b == -1 :\n",
        "            break\n",
        "        dy[a-1][b-1] = 1\n",
        "        dy[b-1][a-1] = 1\n",
        "\n",
        "    L = []\n",
        "    res = N\n",
        "    cnt = 0\n",
        "\n",
        "    for r in range(N) :\n",
        "        for c in range(r+1, N) :\n",
        "            if dy[r][c] == 0 :\n",
        "                dy[r][c] = BFS(r, c)\n",
        "        for c in range(r) :\n",
        "            if dy[r][c] == 0 :\n",
        "                dy[r][c] = dy[c][r]\n",
        "\n",
        "        score = max(dy[r])\n",
        "        if score < res :\n",
        "            res = score\n",
        "            cnt = 1\n",
        "        elif score == res :\n",
        "            cnt += 1\n",
        "        \n",
        "        L.append(score)\n",
        "\n",
        "    print(res, cnt)\n",
        "    for k in range(N) :\n",
        "        if L[k] == res :\n",
        "            print(k+1, end = \" \")\n",
        "    print()"
      ],
      "execution_count": null,
      "outputs": []
    },
    {
      "cell_type": "markdown",
      "metadata": {
        "id": "lVgSU0QQ7T_8"
      },
      "source": [
        "### 14.위상정렬(그래프 정렬)"
      ]
    },
    {
      "cell_type": "code",
      "metadata": {
        "id": "32LvhS-U7WMG"
      },
      "source": [
        "import sys\n",
        "#sys.stdin = open('input.txt', 'rt')\n",
        "\n",
        "N, M = map(int, input().split())\n",
        "ch = [[0]*N for _ in range(N)]\n",
        "dy = [0]*N\n",
        "\n",
        "for _ in range(M) :\n",
        "    r, c = map(int, input().split())\n",
        "    dy[c-1] += 1\n",
        "    ch[r-1][c-1] = 1\n",
        "\n",
        "ans = []\n",
        "\n",
        "while len(ans) < N :\n",
        "    for i in range(N) :\n",
        "        if dy[i] == 0 :\n",
        "            dy[i] = -1\n",
        "            ans.append(i)\n",
        "            for j in range(N) :\n",
        "                if ch[i][j] == 1 :\n",
        "                    ch[i][j] = 0\n",
        "                    dy[j] -= 1\n",
        "\n",
        "for a in ans :\n",
        "    print(a+1, end = \" \")\n",
        "print()"
      ],
      "execution_count": null,
      "outputs": []
    }
  ]
}