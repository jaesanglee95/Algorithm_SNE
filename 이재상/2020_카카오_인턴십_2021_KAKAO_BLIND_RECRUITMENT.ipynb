{
  "nbformat": 4,
  "nbformat_minor": 0,
  "metadata": {
    "colab": {
      "name": "2020 카카오 인턴십 / 2021 KAKAO BLIND RECRUITMENT",
      "private_outputs": true,
      "provenance": [],
      "collapsed_sections": [],
      "authorship_tag": "ABX9TyNzJjT4JziakujKuQs/egrk",
      "include_colab_link": true
    },
    "kernelspec": {
      "name": "python3",
      "display_name": "Python 3"
    },
    "language_info": {
      "name": "python"
    }
  },
  "cells": [
    {
      "cell_type": "markdown",
      "metadata": {
        "id": "view-in-github",
        "colab_type": "text"
      },
      "source": [
        "<a href=\"https://colab.research.google.com/github/jaesanglee95/Algorithm_SNE/blob/main/%EC%9D%B4%EC%9E%AC%EC%83%81/2020_%EC%B9%B4%EC%B9%B4%EC%98%A4_%EC%9D%B8%ED%84%B4%EC%8B%AD_2021_KAKAO_BLIND_RECRUITMENT.ipynb\" target=\"_parent\"><img src=\"https://colab.research.google.com/assets/colab-badge.svg\" alt=\"Open In Colab\"/></a>"
      ]
    },
    {
      "cell_type": "markdown",
      "metadata": {
        "id": "h7ag_2Pa53L5"
      },
      "source": [
        "## 2020 카카오 인턴십"
      ]
    },
    {
      "cell_type": "markdown",
      "metadata": {
        "id": "Cf2d5Cx-55_r"
      },
      "source": [
        "### 키패드 누르기"
      ]
    },
    {
      "cell_type": "code",
      "metadata": {
        "id": "0imsPFoG8vaG"
      },
      "source": [
        "def solution(numbers, hand):\n",
        "    lt, rt = (3,0), (3,2) \n",
        "    answer = ''\n",
        "    while numbers:\n",
        "        n = numbers.pop(0)\n",
        "        \n",
        "        if n == 0 :\n",
        "            r , c = 3, 1\n",
        "        else :\n",
        "            r = (n-1)//3\n",
        "            c = (n-1)%3 \n",
        "        if c == 0 :\n",
        "            lt = (r,c)\n",
        "            answer += 'L'\n",
        "        elif c == 2 :\n",
        "            rt = (r,c)\n",
        "            answer += 'R'\n",
        "        else :\n",
        "            ltr, ltc = lt\n",
        "            tmpL = abs(ltr-r) + abs(ltc-c)\n",
        "            rtr, rtc = rt\n",
        "            tmpR = abs(rtr-r) + abs(rtc-c)\n",
        "            if tmpL < tmpR :\n",
        "                lt  = (r,c)\n",
        "                answer += 'L'\n",
        "            elif tmpL > tmpR :\n",
        "                rt = (r,c)\n",
        "                answer += 'R'\n",
        "            else :\n",
        "                if hand == \"left\" :\n",
        "                    lt  = (r,c)\n",
        "                    answer += 'L'\n",
        "                else :\n",
        "                    rt = (r,c)\n",
        "                    answer += 'R'\n",
        "       \n",
        "    return answer"
      ],
      "execution_count": null,
      "outputs": []
    },
    {
      "cell_type": "markdown",
      "metadata": {
        "id": "W_TjY3QX8vGo"
      },
      "source": [
        "### 수식 최대화"
      ]
    },
    {
      "cell_type": "code",
      "metadata": {
        "id": "5uJTiNA_GsNE"
      },
      "source": [
        "# 계산 함수\n",
        "def calculate(n,m,s) :\n",
        "    if s == '*' :\n",
        "        return n*m\n",
        "    elif s == '+' :\n",
        "        return n+m \n",
        "    else :\n",
        "        return n-m\n",
        "        \n",
        "def solution(expression):\n",
        "    answer = 0\n",
        "    # expression 숫자, 기호화 \n",
        "    L = []\n",
        "    num = ''\n",
        "    for i in expression :\n",
        "        if i.isdecimal() :\n",
        "            num += i\n",
        "        else :\n",
        "            L.append(float(num))\n",
        "            L.append(i)\n",
        "            num = ''\n",
        "    L.append(float(num))\n",
        "    \n",
        "    sign_list = [['*', '+', '-'], ['*', '-', '+'], ['+', '*', '-'], ['+', '-', '*'], ['-', '+', '*'], ['-', '*', '+']]\n",
        "    \n",
        "    for sign in sign_list :\n",
        "        a = L[:] ### 이거 유용하네\n",
        "        # 연산 순위에 맞춰 계산\n",
        "        cnt = 0\n",
        "        while cnt <3:\n",
        "            tmp = 0\n",
        "            for j in range(len(a)) :\n",
        "                if a[j] == sign[cnt] :\n",
        "                    a[j-1:j+2] = [calculate(a[j-1], a[j+1], a[j])]\n",
        "                    tmp += 1\n",
        "                    break\n",
        "            if tmp == 0 :\n",
        "                cnt += 1    \n",
        "    \n",
        "        if abs(a[0]) > answer :\n",
        "            answer = abs(a[0])\n",
        "\n",
        "    return answer"
      ],
      "execution_count": null,
      "outputs": []
    },
    {
      "cell_type": "markdown",
      "metadata": {
        "id": "NtR_8rHsQYrv"
      },
      "source": [
        "### 보석 쇼핑\n",
        "\n",
        "정확성: 33.3\n",
        "\n",
        "효율성: 4.4\n",
        "\n",
        "합계: 37.8 / 100.0"
      ]
    },
    {
      "cell_type": "code",
      "metadata": {
        "id": "6uyGkRVfZHBc"
      },
      "source": [
        "#    정확성: 33.3\n",
        "#    효율성: 4.4\n",
        "#    합계: 37.8 / 100.0\n",
        "def solution(gems):\n",
        "    s = set()\n",
        "    d = dict()\n",
        "    for i, g in enumerate(gems) :\n",
        "        if g not in s :\n",
        "            s.add(g)\n",
        "            d[g] = [i+1]\n",
        "        else :\n",
        "            d[g].append(i+1)\n",
        "        \n",
        "    res = i+1\n",
        "    while all(d[k] for k in d) :\n",
        "        tmp = dict()\n",
        "        for k in d :\n",
        "            tmp[k] = min(d[k])\n",
        "        mn = min(tmp.values())\n",
        "        mx = max(tmp.values())\n",
        "\n",
        "        if mx - mn < res :\n",
        "            res = mx- mn\n",
        "            answer = [mn,mx] \n",
        "\n",
        "        for k in tmp :\n",
        "            if tmp[k] == mn :\n",
        "                d[k].pop(0) \n",
        "                break\n",
        "        \n",
        "    return answer"
      ],
      "execution_count": null,
      "outputs": []
    },
    {
      "cell_type": "markdown",
      "metadata": {
        "id": "YOQ1166pgv90"
      },
      "source": [
        "### 경주로 건설"
      ]
    },
    {
      "cell_type": "code",
      "metadata": {
        "id": "7YVeajIUwo6m"
      },
      "source": [
        "def solution(board):\n",
        "    N = len(board) \n",
        "    cost = [[float('inf')]*N for _ in range(N)]\n",
        "    cost[0][0] = 0\n",
        "    direction = [(0,1), (1,0), (0,-1), (-1,0)]\n",
        "    DFS(0,0,0, N, direction, cost, board)\n",
        "    DFS(0,0,1, N, direction, cost, board)         \n",
        "    answer = cost[-1][-1]\n",
        "    return answer\n",
        "\n",
        "def DFS(r, c, d, N, direction, cost, board) :\n",
        "    if r == c == N-1 :\n",
        "        return\n",
        "    else :\n",
        "        for k in range(4) :\n",
        "            i, j = direction[k]\n",
        "            tmp = cost[r][c]\n",
        "            if 0<= r+i < N and 0 <= c+j < N and board[r+i][c+j] == 0 :\n",
        "                if k == d :\n",
        "                    new = 100\n",
        "                else :\n",
        "                    new = 600\n",
        "\n",
        "                if tmp + new <= cost[r+i][c+j] :\n",
        "                    cost[r+i][c+j] = tmp + new\n",
        "                    DFS(r+i, c+j, k, N, direction, cost, board)\n"
      ],
      "execution_count": null,
      "outputs": []
    },
    {
      "cell_type": "markdown",
      "metadata": {
        "id": "4YVtBxIRycbK"
      },
      "source": [
        "### 동굴 탐험\n",
        "\n",
        "정확성: 33.8\n",
        "\n",
        "효율성: 0.0\n",
        "\n",
        "합계: 33.8 / 100.0"
      ]
    },
    {
      "cell_type": "code",
      "metadata": {
        "id": "Qjkz7FMlFp66"
      },
      "source": [
        "#채점 결과\n",
        "#정확성: 33.8\n",
        "#효율성: 0.0\n",
        "#합계: 33.8 / 100.0\n",
        "\n",
        "def solution(n, path, order):\n",
        "    t, b = [n]*n, [n]*n\n",
        "    t[0], b[0] = 0, 0\n",
        "    tmp, cnt = 0, 0\n",
        "\n",
        "    while path :\n",
        "        i,j = path.pop(0)\n",
        "\n",
        "        if t[i] == tmp :\n",
        "            t[j] = min(t[j], tmp +1)\n",
        "            b[j] = i\n",
        "            cnt = 0\n",
        "        elif t[j] == tmp :\n",
        "            t[i] = min(t[i], tmp +1)\n",
        "            b[i] = j\n",
        "            cnt = 0     \n",
        "        else :\n",
        "            path.append([i,j])\n",
        "            cnt += 1\n",
        "\n",
        "        if cnt > len(path) :\n",
        "            tmp += 1 \n",
        "            \n",
        "    order_i, order_j = [], []\n",
        "    for i, j in order :\n",
        "        order_i.append(i)\n",
        "        order_j.append(j)\n",
        "     \n",
        "    v = [0]\n",
        "    while 1 :\n",
        "        cnt = 0 \n",
        "        for i, j in enumerate(b) :\n",
        "            if j in v and i not in order_j :\n",
        "                if i in order_i :\n",
        "                    idx = order_i.index(i)\n",
        "                    order_i.pop(idx)\n",
        "                    order_j.pop(idx)\n",
        "                b[i] = -1\n",
        "                v.append(i)\n",
        "                cnt += 1\n",
        "\n",
        "        if cnt == 0:\n",
        "            break\n",
        "\n",
        "    answer = len(v) >= n    \n",
        "    return answer"
      ],
      "execution_count": null,
      "outputs": []
    },
    {
      "cell_type": "markdown",
      "metadata": {
        "id": "Vi4zXSibHNRu"
      },
      "source": [
        "## 2021 KAKAO BLIND RECRUITMENT"
      ]
    },
    {
      "cell_type": "markdown",
      "metadata": {
        "id": "uSV8ggPnHUSR"
      },
      "source": [
        "### 신규 아이디 추천"
      ]
    },
    {
      "cell_type": "code",
      "metadata": {
        "id": "mgzHeSk0QuB0"
      },
      "source": [
        "def solution(new_id):\n",
        "    #1단계\n",
        "    new_id  = new_id.lower()    \n",
        "    \n",
        "    #2단계\n",
        "    n = len(new_id)\n",
        "    L =  '-_.abcdefghijklmnopqrstuvwxyz1234567890 '\n",
        "    for i in range(n) :\n",
        "        try :\n",
        "            tmp = new_id[i]\n",
        "            if tmp not in L :\n",
        "                new_id = new_id.replace(tmp,' ')\n",
        "        except :\n",
        "            continue\n",
        "    new_id = new_id.replace(' ','')\n",
        "    \n",
        "    #3단계\n",
        "    cnt = 0\n",
        "    dot_list = []\n",
        "    for i in range(len(new_id)) :\n",
        "        if new_id[i] == '.': \n",
        "            if cnt == 0 :\n",
        "                cnt += 1\n",
        "                st = i\n",
        "            else :\n",
        "                cnt += 1\n",
        "                end = i\n",
        "        else :\n",
        "            if cnt > 0 :\n",
        "                if cnt == 1 :\n",
        "                    dot_list.append([st, st])\n",
        "                else :    \n",
        "                    dot_list.append([st, end])\n",
        "                cnt = 0   \n",
        "    else :\n",
        "        if cnt > 0 :\n",
        "            if cnt == 1 :\n",
        "                dot_list.append([st, st])\n",
        "            else :    \n",
        "                dot_list.append([st, end])\n",
        "                \n",
        "    dot_list.sort(reverse = True)\n",
        "    for i,j in dot_list:\n",
        "        new_id = new_id[:i] + '.' + new_id[j+1:]      \n",
        "        \n",
        "    #4단계\n",
        "    if new_id != '' and new_id[0] == '.' :\n",
        "        new_id = new_id[1:]\n",
        "    if new_id != '' and new_id[-1] == '.' :\n",
        "        new_id = new_id[:-1]      \n",
        "        \n",
        "    #5단계\n",
        "    if new_id == '' :\n",
        "        new_id = 'a'\n",
        "        \n",
        "    #6단계\n",
        "    if len(new_id) > 15 :\n",
        "        new_id = new_id[:15]\n",
        "        if new_id[-1] == '.' :\n",
        "            new_id = new_id[:14]        \n",
        "            \n",
        "    #7단계\n",
        "    while len(new_id) < 3 :\n",
        "        new_id = new_id + new_id[-1]\n",
        "    \n",
        "    answer = new_id\n",
        "    return answer"
      ],
      "execution_count": null,
      "outputs": []
    },
    {
      "cell_type": "markdown",
      "metadata": {
        "id": "B_KkIrcEUTSC"
      },
      "source": [
        "### 메뉴 리뉴얼\n",
        "\n",
        "시간초과 95점"
      ]
    },
    {
      "cell_type": "code",
      "metadata": {
        "id": "tya6n73XXaJd"
      },
      "source": [
        "## 정확성: 95.0\n",
        "from itertools import combinations\n",
        "\n",
        "def solution(orders, course):\n",
        "    answer = []\n",
        "    for n in course :\n",
        "        menu = ''\n",
        "        N = len(orders)\n",
        "        for _ in range(N) :\n",
        "            o = orders.pop(0)\n",
        "            if len(o) >= n :\n",
        "                menu += o\n",
        "                orders.append(o)\n",
        "        menu = set(menu)\n",
        "\n",
        "        combi = combinations(menu,n)\n",
        "        res = 0\n",
        "        ch = []\n",
        "        for c in combi :\n",
        "            cnt = 0\n",
        "            for o in orders :\n",
        "                for i in range(n) :\n",
        "                    if c[i] not in o :\n",
        "                        break\n",
        "                else :\n",
        "                    cnt += 1\n",
        "\n",
        "            if cnt > res :\n",
        "                res = cnt\n",
        "                ch = [c]\n",
        "            elif cnt == res :\n",
        "                ch.append(c)\n",
        "\n",
        "        if res < 2 :\n",
        "            continue\n",
        "\n",
        "        for i in ch :\n",
        "            tmp = list(i)\n",
        "            tmp.sort()\n",
        "            s = ''\n",
        "            for j in tmp :\n",
        "                s += str(j)\n",
        "            answer.append(s) \n",
        "    \n",
        "    answer.sort()\n",
        "    return answer"
      ],
      "execution_count": null,
      "outputs": []
    },
    {
      "cell_type": "markdown",
      "metadata": {
        "id": "bSV_rYXrdLZU"
      },
      "source": [
        "### 순위 검색\n",
        "\n",
        "정확성: 40.0\n",
        "\n",
        "효율성: 0.0\n",
        "\n",
        "합계: 40.0 / 100.0"
      ]
    },
    {
      "cell_type": "code",
      "metadata": {
        "id": "mZugJX8Fx8p6"
      },
      "source": [
        "#정확성: 40.0\n",
        "#효율성: 0.0\n",
        "#합계: 40.0 / 100.0\n",
        "def solution(info, query):\n",
        "    L = []\n",
        "    n = 0\n",
        "    for i in info :\n",
        "        tmp = i.split()\n",
        "        L.append(tmp)\n",
        "        n += 1\n",
        "\n",
        "    answer = []\n",
        "    for q in query :\n",
        "        tmp = q.split()\n",
        "        ch = [1]*n\n",
        "        j = 0\n",
        "        for word in tmp :\n",
        "            if word == 'and' :\n",
        "                j += 1\n",
        "            else :\n",
        "                for i in range(n) :\n",
        "                    if word.isdecimal() :\n",
        "                        if float(L[i][-1]) < float(word) :\n",
        "                            ch[i] = 0\n",
        "                    else :\n",
        "                        if word == '-' :\n",
        "                            continue\n",
        "                        else :\n",
        "                            if L[i][j] != word :\n",
        "                                ch[i] = 0\n",
        "        s = sum(ch)\n",
        "        answer.append(s)\n",
        "\n",
        "    return answer"
      ],
      "execution_count": null,
      "outputs": []
    },
    {
      "cell_type": "markdown",
      "metadata": {
        "id": "8spex_5J1vZG"
      },
      "source": [
        "### 합승 택시 요금\n",
        "\n",
        "정확성: 45.0\n",
        "\n",
        "효율성: 1.7\n",
        "\n",
        "합계: 46.7 / 100.0"
      ]
    },
    {
      "cell_type": "code",
      "metadata": {
        "id": "R0n1-FEDLFP-"
      },
      "source": [
        "#정확성: 45.0 효율성: 1.7 합계: 46.7 / 100.0\n",
        "def DFS(i, end, cost, ch, n) :\n",
        "    global res\n",
        "    ch[i] = 1\n",
        "    if cost > res :\n",
        "        return\n",
        "    if i == end :\n",
        "        if cost < res :\n",
        "            res = cost\n",
        "    else :\n",
        "        for j in range(n) :\n",
        "            if L[i][j] != 0 and ch[j] == 0:\n",
        "                DFS(j, end, cost + L[i][j],ch, n)\n",
        "                ch[j] = 0\n",
        "                \n",
        "def solution(n, s, a, b, fares):\n",
        "    global res , L\n",
        "    answer = 100000*n*2\n",
        "    L =[[0]*n for _ in range(n)]\n",
        "    \n",
        "    for f in fares :\n",
        "        r, c , cost = f\n",
        "        L[r-1][c-1] = cost\n",
        "        L[c-1][r-1] = cost\n",
        "    \n",
        "    for k in range(n) :\n",
        "        ch = [0]*n\n",
        "        total = 0\n",
        "        res = 100000\n",
        "        DFS(s-1, k , 0, ch, n)\n",
        "        if res == 100000 or total > answer:\n",
        "            continue\n",
        "        total += res\n",
        "        \n",
        "        res = 100000\n",
        "        DFS(k, a-1 , 0, ch, n)\n",
        "        if res == 100000 or total > answer:\n",
        "            continue\n",
        "        total += res\n",
        "        \n",
        "        res = 100000\n",
        "        DFS(k, b-1 , 0, ch, n)\n",
        "        if res == 100000 or total > answer:\n",
        "            continue\n",
        "        total += res\n",
        "        \n",
        "        if total < answer :\n",
        "            answer = total\n",
        "    return answer "
      ],
      "execution_count": null,
      "outputs": []
    },
    {
      "cell_type": "markdown",
      "metadata": {
        "id": "Gvhpp2HvAVXq"
      },
      "source": [
        "### 광고 삽입\n",
        "\n",
        "패쓰\n"
      ]
    },
    {
      "cell_type": "markdown",
      "metadata": {
        "id": "TjlUXBwHmKTe"
      },
      "source": [
        "### 카드 짝 맞추기\n",
        "\n",
        "포기"
      ]
    },
    {
      "cell_type": "markdown",
      "metadata": {
        "id": "Wr48q2LbwEZ2"
      },
      "source": [
        "### 매출 하락 최소화\n",
        "\n",
        "정확성: 41.9 : 나머지는 시간초과 및 런타임 에러\n",
        "\n",
        "합계: 41.9 / 100.0\n"
      ]
    },
    {
      "cell_type": "code",
      "metadata": {
        "id": "VQZl3blO5-1I"
      },
      "source": [
        "#정확성: 41.9 : 나머지는 시간초과 및 런타임 에러\n",
        "#합계: 41.9 / 100.0\n",
        "\n",
        "def DFS(i, cost, who, sales) :\n",
        "    global ans\n",
        "    if i == n :\n",
        "        if cost < ans :\n",
        "            ans = cost\n",
        "    else :\n",
        "        k = list(teams.keys())[i]\n",
        "        for j in teams[k] :\n",
        "            if j in who :\n",
        "                DFS(i+1, cost, who, sales)\n",
        "            else :\n",
        "                DFS(i+1, cost + sales[j-1], who + [j], sales)\n",
        "\n",
        "def solution(sales, links):\n",
        "    global teams, p, n, ans\n",
        "    \n",
        "    answer = float('inf')\n",
        "    p = [0]*len(sales)\n",
        "    teams = {}\n",
        "    n = 0\n",
        "    \n",
        "    for i,j in links :\n",
        "        if i in teams.keys() :\n",
        "            teams[i].append(j)\n",
        "        else :\n",
        "            teams[i] = [i, j]\n",
        "            p[i-1] += 1\n",
        "            n += 1\n",
        "        p[j-1] += 1\n",
        "        \n",
        "    for k in teams :\n",
        "        tmp = []\n",
        "        min = float('inf')\n",
        "        idx = -1\n",
        "        for e in teams[k] :\n",
        "            if p[e-1] == 1 :\n",
        "                tmp.append(e)\n",
        "                if sales[e-1] < min :\n",
        "                    min = sales[e-1]\n",
        "                    idx = e\n",
        "        for e2 in tmp :\n",
        "            if e2 != idx :\n",
        "                teams[k].remove(e2)\n",
        "                \n",
        "    ans = float('inf')\n",
        "    DFS(0,0, [-1], sales)\n",
        "    answer = ans\n",
        "    \n",
        "    return answer"
      ],
      "execution_count": null,
      "outputs": []
    }
  ]
}